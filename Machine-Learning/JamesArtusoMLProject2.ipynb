{
  "cells": [
    {
      "cell_type": "markdown",
      "source": [
        "# James Artuso\n",
        "\n",
        "# Programming Exercise \\#2\n",
        "---"
      ],
      "metadata": {
        "id": "DAO8AZsc266y"
      }
    },
    {
      "cell_type": "markdown",
      "source": [
        "# Preamble"
      ],
      "metadata": {
        "id": "rJOtXeNg38_u"
      }
    },
    {
      "cell_type": "code",
      "source": [
        "# optional code cell when using Google Colab with Google Drive\n",
        "\n",
        "# remove the docstring comment block below in order to mount Google Drive\n",
        "#mount Google Drive in Google Colab\n",
        "from google.colab import drive\n",
        "drive.mount('/content/drive')\n",
        "\n",
        "# change directory using the magic command %cd\n",
        "### replace [MY PATH] below with your own path in Google Drive ###\n",
        "%cd /content/drive/My\\ Drive/MachineLearning\n"
      ],
      "metadata": {
        "id": "Ldu0WSDK4IjA",
        "colab": {
          "base_uri": "https://localhost:8080/"
        },
        "outputId": "71444017-833e-4f54-9691-6a10dd54b912"
      },
      "execution_count": null,
      "outputs": [
        {
          "output_type": "stream",
          "name": "stdout",
          "text": [
            "Mounted at /content/drive\n",
            "/content/drive/My Drive/MachineLearning\n"
          ]
        }
      ]
    },
    {
      "cell_type": "code",
      "source": [
        "# import relevant Python libraries\n",
        "\n",
        "import pandas as pd\n",
        "import numpy as np\n",
        "from scipy import stats as sps\n",
        "from matplotlib import pyplot as plt\n",
        "from mpl_toolkits.mplot3d import Axes3D\n",
        "from IPython.display import display, Latex"
      ],
      "metadata": {
        "id": "rjUKWdVD_Eqh"
      },
      "execution_count": null,
      "outputs": []
    },
    {
      "cell_type": "markdown",
      "metadata": {
        "id": "PeHo02TLz-hL"
      },
      "source": [
        "# **1. Feature Engineering for _Environmental Sensor Telemetry Data_**"
      ]
    },
    {
      "cell_type": "markdown",
      "metadata": {
        "id": "qmMHJttez-hM"
      },
      "source": [
        "## Problem 1.1"
      ]
    },
    {
      "cell_type": "code",
      "source": [
        "df = pd.read_csv('iot_telemetry_dataset.csv')"
      ],
      "metadata": {
        "id": "IgKSHxewsRdP"
      },
      "execution_count": null,
      "outputs": []
    },
    {
      "cell_type": "markdown",
      "metadata": {
        "id": "EKQZRr9Dz-hN"
      },
      "source": [
        "### (a)"
      ]
    },
    {
      "cell_type": "markdown",
      "metadata": {
        "id": "9eH6uWf4z-hN"
      },
      "source": [
        "This is an unsupervised learning task because there is no dependent variable in the dataset.\n"
      ]
    },
    {
      "cell_type": "markdown",
      "metadata": {
        "id": "77c-6U-_z-hO"
      },
      "source": [
        "### (b)"
      ]
    },
    {
      "cell_type": "code",
      "execution_count": null,
      "metadata": {
        "id": "530SUQVjz-hP",
        "colab": {
          "base_uri": "https://localhost:8080/"
        },
        "outputId": "34177bfa-7325-41b1-872d-c681ba9cf605"
      },
      "outputs": [
        {
          "output_type": "stream",
          "name": "stdout",
          "text": [
            "There are 405184 datasamples\n"
          ]
        }
      ],
      "source": [
        "print(f'There are {df.shape[0]} datasamples')"
      ]
    },
    {
      "cell_type": "markdown",
      "metadata": {
        "id": "_tMu1LVSz-hQ"
      },
      "source": [
        "### (c)\n",
        "\n"
      ]
    },
    {
      "cell_type": "code",
      "execution_count": null,
      "metadata": {
        "id": "1D7twXbHz-hR",
        "colab": {
          "base_uri": "https://localhost:8080/"
        },
        "outputId": "7433cac9-6d75-494f-c1e4-0b9d632da194"
      },
      "outputs": [
        {
          "output_type": "stream",
          "name": "stdout",
          "text": [
            "There are 111815 devices associated with having MAC address 00:0f:00:70:91:0a\n"
          ]
        }
      ],
      "source": [
        "deviceName = '00:0f:00:70:91:0a'\n",
        "amount = (df['device'] == deviceName).sum()\n",
        "print(f'There are {amount} devices associated with having MAC address {deviceName}')"
      ]
    },
    {
      "cell_type": "markdown",
      "metadata": {
        "id": "kUKa9J6dz-hR"
      },
      "source": [
        "\n",
        "### (d)"
      ]
    },
    {
      "cell_type": "code",
      "execution_count": null,
      "metadata": {
        "id": "2xNG_h3wz-hS",
        "colab": {
          "base_uri": "https://localhost:8080/"
        },
        "outputId": "ac083017-c24e-45cf-de85-eb52ff68cb69"
      },
      "outputs": [
        {
          "output_type": "stream",
          "name": "stdout",
          "text": [
            "There are 105918 devices associated with having MAC address 1c:bf:ce:15:ec:4d\n"
          ]
        }
      ],
      "source": [
        "deviceName = '1c:bf:ce:15:ec:4d'\n",
        "amount = (df['device'] == deviceName).sum()\n",
        "print(f'There are {amount} devices associated with having MAC address {deviceName}')"
      ]
    },
    {
      "cell_type": "markdown",
      "metadata": {
        "id": "Jy00M5wcz-hS"
      },
      "source": [
        "### (e)"
      ]
    },
    {
      "cell_type": "code",
      "source": [
        "deviceName = 'b8:27:eb:bf:9d:51'\n",
        "amount = (df['device'] == deviceName).sum()\n",
        "print(f'There are {amount} devices associated with having MAC address {deviceName}')"
      ],
      "metadata": {
        "id": "cvCXExa7TaTa",
        "colab": {
          "base_uri": "https://localhost:8080/"
        },
        "outputId": "5ee01bf4-db6d-4616-bd63-98a2705491ed"
      },
      "execution_count": null,
      "outputs": [
        {
          "output_type": "stream",
          "name": "stdout",
          "text": [
            "There are 187451 devices associated with having MAC address b8:27:eb:bf:9d:51\n"
          ]
        }
      ]
    },
    {
      "cell_type": "markdown",
      "metadata": {
        "id": "nOJPywDYz-hT"
      },
      "source": [
        "## Problem 1.2"
      ]
    },
    {
      "cell_type": "markdown",
      "metadata": {
        "id": "UTf6Yiqjz-hT"
      },
      "source": [
        "### (a)"
      ]
    },
    {
      "cell_type": "code",
      "execution_count": null,
      "metadata": {
        "id": "qOPVMIawz-hU",
        "colab": {
          "base_uri": "https://localhost:8080/",
          "height": 1000
        },
        "outputId": "13861d6a-d7b6-42ca-eecf-942fed6daacb"
      },
      "outputs": [
        {
          "output_type": "display_data",
          "data": {
            "text/plain": [
              "<Figure size 432x288 with 1 Axes>"
            ],
            "image/png": "[encoded data removed]"
          },
          "metadata": {
            "needs_background": "light"
          }
        },
        {
          "output_type": "display_data",
          "data": {
            "text/plain": [
              "<Figure size 432x288 with 1 Axes>"
            ],
            "image/png": "[encoded data removed]"
          },
          "metadata": {
            "needs_background": "light"
          }
        },
        {
          "output_type": "display_data",
          "data": {
            "text/plain": [
              "<Figure size 432x288 with 1 Axes>"
            ],
            "image/png": "[encoded data removed]"
          },
          "metadata": {
            "needs_background": "light"
          }
        },
        {
          "output_type": "display_data",
          "data": {
            "text/plain": [
              "<Figure size 432x288 with 1 Axes>"
            ],
            "image/png": "[encoded data removed]"
          },
          "metadata": {
            "needs_background": "light"
          }
        },
        {
          "output_type": "display_data",
          "data": {
            "text/plain": [
              "<Figure size 432x288 with 1 Axes>"
            ],
            "image/png": "[encoded data removed]"
          },
          "metadata": {
            "needs_background": "light"
          }
        },
        {
          "output_type": "display_data",
          "data": {
            "text/plain": [
              "<Figure size 432x288 with 1 Axes>"
            ],
            "image/png": "[encoded data removed]"
          },
          "metadata": {
            "needs_background": "light"
          }
        },
        {
          "output_type": "display_data",
          "data": {
            "text/plain": [
              "<Figure size 432x288 with 1 Axes>"
            ],
            "image/png": "[encoded data removed]"
          },
          "metadata": {
            "needs_background": "light"
          }
        },
        {
          "output_type": "display_data",
          "data": {
            "text/plain": [
              "<Figure size 432x288 with 1 Axes>"
            ],
            "image/png": "[encoded data removed]"
          },
          "metadata": {
            "needs_background": "light"
          }
        },
        {
          "output_type": "display_data",
          "data": {
            "text/plain": [
              "<Figure size 432x288 with 1 Axes>"
            ],
            "image/png": "[encoded data removed]"
          },
          "metadata": {
            "needs_background": "light"
          }
        },
        {
          "output_type": "display_data",
          "data": {
            "text/plain": [
              "<Figure size 432x288 with 1 Axes>"
            ],
            "image/png": "[encoded data removed]"
          },
          "metadata": {
            "needs_background": "light"
          }
        },
        {
          "output_type": "display_data",
          "data": {
            "text/plain": [
              "<Figure size 432x288 with 1 Axes>"
            ],
            "image/png": "[encoded data removed]"
          },
          "metadata": {
            "needs_background": "light"
          }
        },
        {
          "output_type": "display_data",
          "data": {
            "text/plain": [
              "<Figure size 432x288 with 1 Axes>"
            ],
            "image/png": "[encoded data removed]"
          },
          "metadata": {
            "needs_background": "light"
          }
        }
      ],
      "source": [
        "devices = df['device'].unique()\n",
        "\n",
        "aRows = df.iloc[df.index[df['device'] == devices[0]]]\n",
        "bRows = df.iloc[df.index[df['device'] == devices[1]]]\n",
        "cRows = df.iloc[df.index[df['device'] == devices[2]]]\n",
        "\n",
        "categories = ['co', 'humidity', 'lpg', 'smoke', 'temp']\n",
        "print\n",
        "\n",
        "pd.concat(\n",
        "   [aRows[categories].mean().rename(\"b8:27:eb:bf:9d:51\"),\n",
        "     bRows[categories].mean().rename(\"00:0f:00:70:91:0a\"),\n",
        "     cRows[categories].mean().rename(\"1c:bf:ce:15:ec:4d\")], axis = 1).plot.bar(title = 'Means')\n",
        "\n",
        "pd.concat(\n",
        "   [aRows[categories].var().rename(\"b8:27:eb:bf:9d:51\"),\n",
        "     bRows[categories].var().rename(\"00:0f:00:70:91:0a\"),\n",
        "     cRows[categories].var().rename(\"1c:bf:ce:15:ec:4d\")], axis = 1).plot.bar(title = 'Variances')\n",
        "\n",
        "\n",
        "\n",
        "for s in categories:\n",
        "  pd.concat([aRows[[s]].mean().rename(\"b8:27:eb:bf:9d:51\"),\n",
        "     bRows[[s]].mean().rename(\"00:0f:00:70:91:0a\"),\n",
        "     cRows[[s]].mean().rename(\"1c:bf:ce:15:ec:4d\")],axis = 1).rename(index ={s:'mean'}).plot.bar(title = (s + \" mean\"))\n",
        "  pd.concat([aRows[[s]].var().rename(\"b8:27:eb:bf:9d:51\"),\n",
        "     bRows[[s]].var().rename(\"00:0f:00:70:91:0a\"),\n",
        "     cRows[[s]].var().rename(\"1c:bf:ce:15:ec:4d\")],axis = 1).rename(index ={s:'var'}).plot.bar(title = (s + \" var\"))\n",
        "\n"
      ]
    },
    {
      "cell_type": "markdown",
      "source": [
        "Humidity and temp have a much higher mean than the others. Humidity also has a much higher variance than the others. In addition, there is a lot a variability between devices. For example, variance for smoke for 00:0f:00:70:91:0a is much higher than the other two devices. Generally, the means stay around the same value. The variance is usually where one device will be very different from the others.\n",
        "\n"
      ],
      "metadata": {
        "id": "baOjUglyTzY9"
      }
    },
    {
      "cell_type": "markdown",
      "metadata": {
        "id": "CrZQxH5hz-hU"
      },
      "source": [
        "### (b)"
      ]
    },
    {
      "cell_type": "code",
      "execution_count": null,
      "metadata": {
        "id": "ESSjRnLCz-hU",
        "colab": {
          "base_uri": "https://localhost:8080/",
          "height": 611
        },
        "outputId": "5aa7edc8-5396-4844-d024-5bf8a89baf3b"
      },
      "outputs": [
        {
          "output_type": "execute_result",
          "data": {
            "text/plain": [
              "<matplotlib.axes._subplots.AxesSubplot at 0x7f93fa325410>"
            ]
          },
          "metadata": {},
          "execution_count": 131
        },
        {
          "output_type": "display_data",
          "data": {
            "text/plain": [
              "<Figure size 432x288 with 1 Axes>"
            ],
            "image/png": "[encoded data removed]"
          },
          "metadata": {
            "needs_background": "light"
          }
        },
        {
          "output_type": "display_data",
          "data": {
            "text/plain": [
              "<Figure size 432x288 with 1 Axes>"
            ],
            "image/png": "[encoded data removed]"
          },
          "metadata": {
            "needs_background": "light"
          }
        }
      ],
      "source": [
        "devices = df['device'].unique()\n",
        "dfCentered = df.copy()\n",
        "\n",
        "dfCentered.loc[df.index[df['device'] == devices[0]], ['co', 'humidity', 'lpg', 'smoke', 'temp']] =\\\n",
        "  sps.zscore(df.loc[df.index[df['device'] == devices[0]], ['co', 'humidity', 'lpg', 'smoke', 'temp']])\n",
        "\n",
        "dfCentered.loc[df.index[df['device'] == devices[1]], ['co', 'humidity', 'lpg', 'smoke', 'temp']] =\\\n",
        "  sps.zscore(df.loc[df.index[df['device'] == devices[1]], ['co', 'humidity', 'lpg', 'smoke', 'temp']])\n",
        "\n",
        "dfCentered.loc[df.index[df['device'] == devices[2]], ['co', 'humidity', 'lpg', 'smoke', 'temp']] =\\\n",
        "  sps.zscore(df.loc[df.index[df['device'] == devices[2]], ['co', 'humidity', 'lpg', 'smoke', 'temp']])\n",
        "\n",
        "aRows = dfCentered.iloc[df.index[df['device'] == devices[0]]]\n",
        "bRows = dfCentered.iloc[df.index[df['device'] == devices[1]]]\n",
        "cRows = dfCentered.iloc[df.index[df['device'] == devices[2]]]\n",
        "\n",
        "\n",
        "pd.concat(\n",
        "   [aRows[['co', 'humidity', 'lpg', 'smoke', 'temp']].mean().rename(\"b8:27:eb:bf:9d:51\"),\n",
        "     bRows[['co', 'humidity', 'lpg', 'smoke', 'temp']].mean().rename(\"00:0f:00:70:91:0a\"),\n",
        "     cRows[['co', 'humidity', 'lpg', 'smoke', 'temp']].mean().rename(\"1c:bf:ce:15:ec:4d\")], axis = 1).plot.bar()\n",
        "\n",
        "pd.concat(\n",
        "   [aRows[['co', 'humidity', 'lpg', 'smoke', 'temp']].var().rename(\"b8:27:eb:bf:9d:51\"),\n",
        "     bRows[['co', 'humidity', 'lpg', 'smoke', 'temp']].var().rename(\"00:0f:00:70:91:0a\"),\n",
        "     cRows[['co', 'humidity', 'lpg', 'smoke', 'temp']].var().rename(\"1c:bf:ce:15:ec:4d\")], axis = 1).plot.bar()\\"
      ]
    },
    {
      "cell_type": "markdown",
      "metadata": {
        "id": "hWh95Fiyz-hU"
      },
      "source": [
        "\n",
        "### (c)"
      ]
    },
    {
      "cell_type": "code",
      "execution_count": null,
      "metadata": {
        "id": "VZ9EtxC-z-hV"
      },
      "outputs": [],
      "source": [
        "dfCentered = pd.get_dummies(dfCentered, columns = ['device', 'light', 'motion'])"
      ]
    },
    {
      "cell_type": "markdown",
      "source": [
        "### (d)"
      ],
      "metadata": {
        "id": "3IuMCu6vUBgz"
      }
    },
    {
      "cell_type": "code",
      "source": [
        "dfCentered.head(20)"
      ],
      "metadata": {
        "id": "z8UHdRe1UCLr",
        "colab": {
          "base_uri": "https://localhost:8080/",
          "height": 677
        },
        "outputId": "51829244-c33f-4d15-f372-f8688543c040"
      },
      "execution_count": null,
      "outputs": [
        {
          "output_type": "execute_result",
          "data": {
            "text/plain": [
              "              ts        co  humidity       lpg     smoke      temp  \\\n",
              "0   1.594512e+09 -1.080796  0.098428 -1.093494 -1.091262  0.871612   \n",
              "1   1.594512e+09 -0.464453  0.281223 -0.458335 -0.460394  0.524164   \n",
              "2   1.594512e+09 -1.044867  0.045488 -1.056110 -1.054139  0.664101   \n",
              "3   1.594512e+09  0.687054  1.664636  0.696251  0.694636  0.480892   \n",
              "4   1.594512e+09 -1.060347  0.045488 -1.072212 -1.070130  0.664101   \n",
              "5   1.594512e+09  0.649530  1.787613  0.659046  0.657373  0.480892   \n",
              "6   1.594512e+09 -1.044844  0.045488 -1.056086 -1.054116  0.664101   \n",
              "7   1.594512e+09 -0.398158  0.281223 -0.383563 -0.387060  0.524164   \n",
              "8   1.594512e+09  0.507422  1.787613  0.517890  0.516041  0.480892   \n",
              "9   1.594512e+09 -1.055170  0.045488 -1.066827 -1.064782  0.664101   \n",
              "10  1.594512e+09 -1.073153  0.045488 -1.085539 -1.083363  0.664101   \n",
              "11  1.594512e+09  0.624687  1.798793  0.634398  0.632689  0.480892   \n",
              "12  1.594512e+09 -1.052684  0.045488 -1.064240 -1.062213  0.664101   \n",
              "13  1.594512e+09  0.838333  1.798793  0.845959  0.844630  0.480892   \n",
              "14  1.594512e+09 -1.065357  0.045488 -1.077425 -1.075306  0.664101   \n",
              "15  1.594512e+09 -0.420543  0.180000 -0.408733 -0.411760  0.524164   \n",
              "16  1.594512e+09 -1.044919  0.045488 -1.056164 -1.054193  0.664101   \n",
              "17  1.594512e+09 -1.073153  0.045488 -1.085539 -1.083363  0.664101   \n",
              "18  1.594512e+09  0.800335  1.787613  0.808398  0.806990  0.480892   \n",
              "19  1.594512e+09 -1.080473  0.045488 -1.093158 -1.090928  0.664101   \n",
              "\n",
              "    device_00:0f:00:70:91:0a  device_1c:bf:ce:15:ec:4d  \\\n",
              "0                          0                         0   \n",
              "1                          1                         0   \n",
              "2                          0                         0   \n",
              "3                          0                         1   \n",
              "4                          0                         0   \n",
              "5                          0                         1   \n",
              "6                          0                         0   \n",
              "7                          1                         0   \n",
              "8                          0                         1   \n",
              "9                          0                         0   \n",
              "10                         0                         0   \n",
              "11                         0                         1   \n",
              "12                         0                         0   \n",
              "13                         0                         1   \n",
              "14                         0                         0   \n",
              "15                         1                         0   \n",
              "16                         0                         0   \n",
              "17                         0                         0   \n",
              "18                         0                         1   \n",
              "19                         0                         0   \n",
              "\n",
              "    device_b8:27:eb:bf:9d:51  light_False  light_True  motion_False  \\\n",
              "0                          1            1           0             1   \n",
              "1                          0            1           0             1   \n",
              "2                          1            1           0             1   \n",
              "3                          0            0           1             1   \n",
              "4                          1            1           0             1   \n",
              "5                          0            0           1             1   \n",
              "6                          1            1           0             1   \n",
              "7                          0            1           0             1   \n",
              "8                          0            0           1             1   \n",
              "9                          1            1           0             1   \n",
              "10                         1            1           0             1   \n",
              "11                         0            0           1             1   \n",
              "12                         1            1           0             1   \n",
              "13                         0            0           1             1   \n",
              "14                         1            1           0             1   \n",
              "15                         0            1           0             1   \n",
              "16                         1            1           0             1   \n",
              "17                         1            1           0             1   \n",
              "18                         0            0           1             1   \n",
              "19                         1            1           0             1   \n",
              "\n",
              "    motion_True  \n",
              "0             0  \n",
              "1             0  \n",
              "2             0  \n",
              "3             0  \n",
              "4             0  \n",
              "5             0  \n",
              "6             0  \n",
              "7             0  \n",
              "8             0  \n",
              "9             0  \n",
              "10            0  \n",
              "11            0  \n",
              "12            0  \n",
              "13            0  \n",
              "14            0  \n",
              "15            0  \n",
              "16            0  \n",
              "17            0  \n",
              "18            0  \n",
              "19            0  "
            ],
            "text/html": [
              "\n",
              "  <div id=\"df-290045e4-195d-42a6-833b-e2d0329ea7dc\">\n",
              "    <div class=\"colab-df-container\">\n",
              "      <div>\n",
              "<style scoped>\n",
              "    .dataframe tbody tr th:only-of-type {\n",
              "        vertical-align: middle;\n",
              "    }\n",
              "\n",
              "    .dataframe tbody tr th {\n",
              "        vertical-align: top;\n",
              "    }\n",
              "\n",
              "    .dataframe thead th {\n",
              "        text-align: right;\n",
              "    }\n",
              "</style>\n",
              "<table border=\"1\" class=\"dataframe\">\n",
              "  <thead>\n",
              "    <tr style=\"text-align: right;\">\n",
              "      <th></th>\n",
              "      <th>ts</th>\n",
              "      <th>co</th>\n",
              "      <th>humidity</th>\n",
              "      <th>lpg</th>\n",
              "      <th>smoke</th>\n",
              "      <th>temp</th>\n",
              "      <th>device_00:0f:00:70:91:0a</th>\n",
              "      <th>device_1c:bf:ce:15:ec:4d</th>\n",
              "      <th>device_b8:27:eb:bf:9d:51</th>\n",
              "      <th>light_False</th>\n",
              "      <th>light_True</th>\n",
              "      <th>motion_False</th>\n",
              "      <th>motion_True</th>\n",
              "    </tr>\n",
              "  </thead>\n",
              "  <tbody>\n",
              "    <tr>\n",
              "      <th>0</th>\n",
              "      <td>1.594512e+09</td>\n",
              "      <td>-1.080796</td>\n",
              "      <td>0.098428</td>\n",
              "      <td>-1.093494</td>\n",
              "      <td>-1.091262</td>\n",
              "      <td>0.871612</td>\n",
              "      <td>0</td>\n",
              "      <td>0</td>\n",
              "      <td>1</td>\n",
              "      <td>1</td>\n",
              "      <td>0</td>\n",
              "      <td>1</td>\n",
              "      <td>0</td>\n",
              "    </tr>\n",
              "    <tr>\n",
              "      <th>1</th>\n",
              "      <td>1.594512e+09</td>\n",
              "      <td>-0.464453</td>\n",
              "      <td>0.281223</td>\n",
              "      <td>-0.458335</td>\n",
              "      <td>-0.460394</td>\n",
              "      <td>0.524164</td>\n",
              "      <td>1</td>\n",
              "      <td>0</td>\n",
              "      <td>0</td>\n",
              "      <td>1</td>\n",
              "      <td>0</td>\n",
              "      <td>1</td>\n",
              "      <td>0</td>\n",
              "    </tr>\n",
              "    <tr>\n",
              "      <th>2</th>\n",
              "      <td>1.594512e+09</td>\n",
              "      <td>-1.044867</td>\n",
              "      <td>0.045488</td>\n",
              "      <td>-1.056110</td>\n",
              "      <td>-1.054139</td>\n",
              "      <td>0.664101</td>\n",
              "      <td>0</td>\n",
              "      <td>0</td>\n",
              "      <td>1</td>\n",
              "      <td>1</td>\n",
              "      <td>0</td>\n",
              "      <td>1</td>\n",
              "      <td>0</td>\n",
              "    </tr>\n",
              "    <tr>\n",
              "      <th>3</th>\n",
              "      <td>1.594512e+09</td>\n",
              "      <td>0.687054</td>\n",
              "      <td>1.664636</td>\n",
              "      <td>0.696251</td>\n",
              "      <td>0.694636</td>\n",
              "      <td>0.480892</td>\n",
              "      <td>0</td>\n",
              "      <td>1</td>\n",
              "      <td>0</td>\n",
              "      <td>0</td>\n",
              "      <td>1</td>\n",
              "      <td>1</td>\n",
              "      <td>0</td>\n",
              "    </tr>\n",
              "    <tr>\n",
              "      <th>4</th>\n",
              "      <td>1.594512e+09</td>\n",
              "      <td>-1.060347</td>\n",
              "      <td>0.045488</td>\n",
              "      <td>-1.072212</td>\n",
              "      <td>-1.070130</td>\n",
              "      <td>0.664101</td>\n",
              "      <td>0</td>\n",
              "      <td>0</td>\n",
              "      <td>1</td>\n",
              "      <td>1</td>\n",
              "      <td>0</td>\n",
              "      <td>1</td>\n",
              "      <td>0</td>\n",
              "    </tr>\n",
              "    <tr>\n",
              "      <th>5</th>\n",
              "      <td>1.594512e+09</td>\n",
              "      <td>0.649530</td>\n",
              "      <td>1.787613</td>\n",
              "      <td>0.659046</td>\n",
              "      <td>0.657373</td>\n",
              "      <td>0.480892</td>\n",
              "      <td>0</td>\n",
              "      <td>1</td>\n",
              "      <td>0</td>\n",
              "      <td>0</td>\n",
              "      <td>1</td>\n",
              "      <td>1</td>\n",
              "      <td>0</td>\n",
              "    </tr>\n",
              "    <tr>\n",
              "      <th>6</th>\n",
              "      <td>1.594512e+09</td>\n",
              "      <td>-1.044844</td>\n",
              "      <td>0.045488</td>\n",
              "      <td>-1.056086</td>\n",
              "      <td>-1.054116</td>\n",
              "      <td>0.664101</td>\n",
              "      <td>0</td>\n",
              "      <td>0</td>\n",
              "      <td>1</td>\n",
              "      <td>1</td>\n",
              "      <td>0</td>\n",
              "      <td>1</td>\n",
              "      <td>0</td>\n",
              "    </tr>\n",
              "    <tr>\n",
              "      <th>7</th>\n",
              "      <td>1.594512e+09</td>\n",
              "      <td>-0.398158</td>\n",
              "      <td>0.281223</td>\n",
              "      <td>-0.383563</td>\n",
              "      <td>-0.387060</td>\n",
              "      <td>0.524164</td>\n",
              "      <td>1</td>\n",
              "      <td>0</td>\n",
              "      <td>0</td>\n",
              "      <td>1</td>\n",
              "      <td>0</td>\n",
              "      <td>1</td>\n",
              "      <td>0</td>\n",
              "    </tr>\n",
              "    <tr>\n",
              "      <th>8</th>\n",
              "      <td>1.594512e+09</td>\n",
              "      <td>0.507422</td>\n",
              "      <td>1.787613</td>\n",
              "      <td>0.517890</td>\n",
              "      <td>0.516041</td>\n",
              "      <td>0.480892</td>\n",
              "      <td>0</td>\n",
              "      <td>1</td>\n",
              "      <td>0</td>\n",
              "      <td>0</td>\n",
              "      <td>1</td>\n",
              "      <td>1</td>\n",
              "      <td>0</td>\n",
              "    </tr>\n",
              "    <tr>\n",
              "      <th>9</th>\n",
              "      <td>1.594512e+09</td>\n",
              "      <td>-1.055170</td>\n",
              "      <td>0.045488</td>\n",
              "      <td>-1.066827</td>\n",
              "      <td>-1.064782</td>\n",
              "      <td>0.664101</td>\n",
              "      <td>0</td>\n",
              "      <td>0</td>\n",
              "      <td>1</td>\n",
              "      <td>1</td>\n",
              "      <td>0</td>\n",
              "      <td>1</td>\n",
              "      <td>0</td>\n",
              "    </tr>\n",
              "    <tr>\n",
              "      <th>10</th>\n",
              "      <td>1.594512e+09</td>\n",
              "      <td>-1.073153</td>\n",
              "      <td>0.045488</td>\n",
              "      <td>-1.085539</td>\n",
              "      <td>-1.083363</td>\n",
              "      <td>0.664101</td>\n",
              "      <td>0</td>\n",
              "      <td>0</td>\n",
              "      <td>1</td>\n",
              "      <td>1</td>\n",
              "      <td>0</td>\n",
              "      <td>1</td>\n",
              "      <td>0</td>\n",
              "    </tr>\n",
              "    <tr>\n",
              "      <th>11</th>\n",
              "      <td>1.594512e+09</td>\n",
              "      <td>0.624687</td>\n",
              "      <td>1.798793</td>\n",
              "      <td>0.634398</td>\n",
              "      <td>0.632689</td>\n",
              "      <td>0.480892</td>\n",
              "      <td>0</td>\n",
              "      <td>1</td>\n",
              "      <td>0</td>\n",
              "      <td>0</td>\n",
              "      <td>1</td>\n",
              "      <td>1</td>\n",
              "      <td>0</td>\n",
              "    </tr>\n",
              "    <tr>\n",
              "      <th>12</th>\n",
              "      <td>1.594512e+09</td>\n",
              "      <td>-1.052684</td>\n",
              "      <td>0.045488</td>\n",
              "      <td>-1.064240</td>\n",
              "      <td>-1.062213</td>\n",
              "      <td>0.664101</td>\n",
              "      <td>0</td>\n",
              "      <td>0</td>\n",
              "      <td>1</td>\n",
              "      <td>1</td>\n",
              "      <td>0</td>\n",
              "      <td>1</td>\n",
              "      <td>0</td>\n",
              "    </tr>\n",
              "    <tr>\n",
              "      <th>13</th>\n",
              "      <td>1.594512e+09</td>\n",
              "      <td>0.838333</td>\n",
              "      <td>1.798793</td>\n",
              "      <td>0.845959</td>\n",
              "      <td>0.844630</td>\n",
              "      <td>0.480892</td>\n",
              "      <td>0</td>\n",
              "      <td>1</td>\n",
              "      <td>0</td>\n",
              "      <td>0</td>\n",
              "      <td>1</td>\n",
              "      <td>1</td>\n",
              "      <td>0</td>\n",
              "    </tr>\n",
              "    <tr>\n",
              "      <th>14</th>\n",
              "      <td>1.594512e+09</td>\n",
              "      <td>-1.065357</td>\n",
              "      <td>0.045488</td>\n",
              "      <td>-1.077425</td>\n",
              "      <td>-1.075306</td>\n",
              "      <td>0.664101</td>\n",
              "      <td>0</td>\n",
              "      <td>0</td>\n",
              "      <td>1</td>\n",
              "      <td>1</td>\n",
              "      <td>0</td>\n",
              "      <td>1</td>\n",
              "      <td>0</td>\n",
              "    </tr>\n",
              "    <tr>\n",
              "      <th>15</th>\n",
              "      <td>1.594512e+09</td>\n",
              "      <td>-0.420543</td>\n",
              "      <td>0.180000</td>\n",
              "      <td>-0.408733</td>\n",
              "      <td>-0.411760</td>\n",
              "      <td>0.524164</td>\n",
              "      <td>1</td>\n",
              "      <td>0</td>\n",
              "      <td>0</td>\n",
              "      <td>1</td>\n",
              "      <td>0</td>\n",
              "      <td>1</td>\n",
              "      <td>0</td>\n",
              "    </tr>\n",
              "    <tr>\n",
              "      <th>16</th>\n",
              "      <td>1.594512e+09</td>\n",
              "      <td>-1.044919</td>\n",
              "      <td>0.045488</td>\n",
              "      <td>-1.056164</td>\n",
              "      <td>-1.054193</td>\n",
              "      <td>0.664101</td>\n",
              "      <td>0</td>\n",
              "      <td>0</td>\n",
              "      <td>1</td>\n",
              "      <td>1</td>\n",
              "      <td>0</td>\n",
              "      <td>1</td>\n",
              "      <td>0</td>\n",
              "    </tr>\n",
              "    <tr>\n",
              "      <th>17</th>\n",
              "      <td>1.594512e+09</td>\n",
              "      <td>-1.073153</td>\n",
              "      <td>0.045488</td>\n",
              "      <td>-1.085539</td>\n",
              "      <td>-1.083363</td>\n",
              "      <td>0.664101</td>\n",
              "      <td>0</td>\n",
              "      <td>0</td>\n",
              "      <td>1</td>\n",
              "      <td>1</td>\n",
              "      <td>0</td>\n",
              "      <td>1</td>\n",
              "      <td>0</td>\n",
              "    </tr>\n",
              "    <tr>\n",
              "      <th>18</th>\n",
              "      <td>1.594512e+09</td>\n",
              "      <td>0.800335</td>\n",
              "      <td>1.787613</td>\n",
              "      <td>0.808398</td>\n",
              "      <td>0.806990</td>\n",
              "      <td>0.480892</td>\n",
              "      <td>0</td>\n",
              "      <td>1</td>\n",
              "      <td>0</td>\n",
              "      <td>0</td>\n",
              "      <td>1</td>\n",
              "      <td>1</td>\n",
              "      <td>0</td>\n",
              "    </tr>\n",
              "    <tr>\n",
              "      <th>19</th>\n",
              "      <td>1.594512e+09</td>\n",
              "      <td>-1.080473</td>\n",
              "      <td>0.045488</td>\n",
              "      <td>-1.093158</td>\n",
              "      <td>-1.090928</td>\n",
              "      <td>0.664101</td>\n",
              "      <td>0</td>\n",
              "      <td>0</td>\n",
              "      <td>1</td>\n",
              "      <td>1</td>\n",
              "      <td>0</td>\n",
              "      <td>1</td>\n",
              "      <td>0</td>\n",
              "    </tr>\n",
              "  </tbody>\n",
              "</table>\n",
              "</div>\n",
              "      <button class=\"colab-df-convert\" onclick=\"convertToInteractive('df-290045e4-195d-42a6-833b-e2d0329ea7dc')\"\n",
              "              title=\"Convert this dataframe to an interactive table.\"\n",
              "              style=\"display:none;\">\n",
              "        \n",
              "  <svg xmlns=\"http://www.w3.org/2000/svg\" height=\"24px\"viewBox=\"0 0 24 24\"\n",
              "       width=\"24px\">\n",
              "    <path d=\"M0 0h24v24H0V0z\" fill=\"none\"/>\n",
              "    <path d=\"M18.56 5.44l.94 2.06.94-2.06 2.06-.94-2.06-.94-.94-2.06-.94 2.06-2.06.94zm-11 1L8.5 8.5l.94-2.06 2.06-.94-2.06-.94L8.5 2.5l-.94 2.06-2.06.94zm10 10l.94 2.06.94-2.06 2.06-.94-2.06-.94-.94-2.06-.94 2.06-2.06.94z\"/><path d=\"M17.41 7.96l-1.37-1.37c-.4-.4-.92-.59-1.43-.59-.52 0-1.04.2-1.43.59L10.3 9.45l-7.72 7.72c-.78.78-.78 2.05 0 2.83L4 21.41c.39.39.9.59 1.41.59.51 0 1.02-.2 1.41-.59l7.78-7.78 2.81-2.81c.8-.78.8-2.07 0-2.86zM5.41 20L4 18.59l7.72-7.72 1.47 1.35L5.41 20z\"/>\n",
              "  </svg>\n",
              "      </button>\n",
              "      \n",
              "  <style>\n",
              "    .colab-df-container {\n",
              "      display:flex;\n",
              "      flex-wrap:wrap;\n",
              "      gap: 12px;\n",
              "    }\n",
              "\n",
              "    .colab-df-convert {\n",
              "      background-color: #E8F0FE;\n",
              "      border: none;\n",
              "      border-radius: 50%;\n",
              "      cursor: pointer;\n",
              "      display: none;\n",
              "      fill: #1967D2;\n",
              "      height: 32px;\n",
              "      padding: 0 0 0 0;\n",
              "      width: 32px;\n",
              "    }\n",
              "\n",
              "    .colab-df-convert:hover {\n",
              "      background-color: #E2EBFA;\n",
              "      box-shadow: 0px 1px 2px rgba(60, 64, 67, 0.3), 0px 1px 3px 1px rgba(60, 64, 67, 0.15);\n",
              "      fill: #174EA6;\n",
              "    }\n",
              "\n",
              "    [theme=dark] .colab-df-convert {\n",
              "      background-color: #3B4455;\n",
              "      fill: #D2E3FC;\n",
              "    }\n",
              "\n",
              "    [theme=dark] .colab-df-convert:hover {\n",
              "      background-color: #434B5C;\n",
              "      box-shadow: 0px 1px 3px 1px rgba(0, 0, 0, 0.15);\n",
              "      filter: drop-shadow(0px 1px 2px rgba(0, 0, 0, 0.3));\n",
              "      fill: #FFFFFF;\n",
              "    }\n",
              "  </style>\n",
              "\n",
              "      <script>\n",
              "        const buttonEl =\n",
              "          document.querySelector('#df-290045e4-195d-42a6-833b-e2d0329ea7dc button.colab-df-convert');\n",
              "        buttonEl.style.display =\n",
              "          google.colab.kernel.accessAllowed ? 'block' : 'none';\n",
              "\n",
              "        async function convertToInteractive(key) {\n",
              "          const element = document.querySelector('#df-290045e4-195d-42a6-833b-e2d0329ea7dc');\n",
              "          const dataTable =\n",
              "            await google.colab.kernel.invokeFunction('convertToInteractive',\n",
              "                                                     [key], {});\n",
              "          if (!dataTable) return;\n",
              "\n",
              "          const docLinkHtml = 'Like what you see? Visit the ' +\n",
              "            '<a target=\"_blank\" href=https://colab.research.google.com/notebooks/data_table.ipynb>data table notebook</a>'\n",
              "            + ' to learn more about interactive tables.';\n",
              "          element.innerHTML = '';\n",
              "          dataTable['output_type'] = 'display_data';\n",
              "          await google.colab.output.renderOutput(dataTable, element);\n",
              "          const docLink = document.createElement('div');\n",
              "          docLink.innerHTML = docLinkHtml;\n",
              "          element.appendChild(docLink);\n",
              "        }\n",
              "      </script>\n",
              "    </div>\n",
              "  </div>\n",
              "  "
            ]
          },
          "metadata": {},
          "execution_count": 133
        }
      ]
    },
    {
      "cell_type": "markdown",
      "source": [
        "### (e)"
      ],
      "metadata": {
        "id": "zsOtgiVCUEfc"
      }
    },
    {
      "cell_type": "markdown",
      "source": [
        "This is timestamp. Time should not be altered because then it would lose all meaning. The time can act as a psuedo indexing variable. The reason normal indexing was not used is because the space in between timestamps has meaning and can be used as an independent variable. "
      ],
      "metadata": {
        "id": "DR3FGIldUEPN"
      }
    },
    {
      "cell_type": "markdown",
      "source": [
        "## Problem 1.3"
      ],
      "metadata": {
        "id": "OYDjQvfFxnQw"
      }
    },
    {
      "cell_type": "code",
      "source": [
        "ind_vars = ['co', 'humidity', 'lpg', 'smoke', 'temp']\n",
        "\n",
        "df['mean'] = df[ind_vars].mean(axis = 1)\n",
        "df['gmean'] = sps.stats.gmean(df[ind_vars], axis = 1)\n",
        "df['hmean'] = sps.stats.hmean(df[ind_vars], axis = 1)\n",
        "df['var'] =  df[ind_vars].var(axis = 1)\n",
        "df['kurtosis'] = sps.stats.kurtosis(df[ind_vars], axis = 1)\n",
        "df['skew'] = sps.stats.skew(df[ind_vars], axis = 1)\n",
        "df.head(40)"
      ],
      "metadata": {
        "id": "5YCLwVJuxrXG",
        "colab": {
          "base_uri": "https://localhost:8080/",
          "height": 1000
        },
        "outputId": "5d6aad51-77bd-4c34-8442-f56b40d3701d"
      },
      "execution_count": null,
      "outputs": [
        {
          "output_type": "stream",
          "name": "stderr",
          "text": [
            "/usr/local/lib/python3.7/dist-packages/scipy/stats/stats.py:275: RuntimeWarning: divide by zero encountered in log\n",
            "  log_a = np.log(np.array(a, dtype=dtype))\n"
          ]
        },
        {
          "output_type": "execute_result",
          "data": {
            "text/plain": [
              "              ts             device        co   humidity  light       lpg  \\\n",
              "0   1.594512e+09  b8:27:eb:bf:9d:51  0.004956  51.000000  False  0.007651   \n",
              "1   1.594512e+09  00:0f:00:70:91:0a  0.002840  76.000000  False  0.005114   \n",
              "2   1.594512e+09  b8:27:eb:bf:9d:51  0.004976  50.900000  False  0.007673   \n",
              "3   1.594512e+09  1c:bf:ce:15:ec:4d  0.004403  76.800003   True  0.007023   \n",
              "4   1.594512e+09  b8:27:eb:bf:9d:51  0.004967  50.900000  False  0.007664   \n",
              "5   1.594512e+09  1c:bf:ce:15:ec:4d  0.004391  77.900002   True  0.007009   \n",
              "6   1.594512e+09  b8:27:eb:bf:9d:51  0.004976  50.900000  False  0.007673   \n",
              "7   1.594512e+09  00:0f:00:70:91:0a  0.002938  76.000000  False  0.005241   \n",
              "8   1.594512e+09  1c:bf:ce:15:ec:4d  0.004345  77.900002   True  0.006957   \n",
              "9   1.594512e+09  b8:27:eb:bf:9d:51  0.004970  50.900000  False  0.007667   \n",
              "10  1.594512e+09  b8:27:eb:bf:9d:51  0.004960  50.900000  False  0.007656   \n",
              "11  1.594512e+09  1c:bf:ce:15:ec:4d  0.004383  78.000000   True  0.007000   \n",
              "12  1.594512e+09  b8:27:eb:bf:9d:51  0.004972  50.900000  False  0.007668   \n",
              "13  1.594512e+09  1c:bf:ce:15:ec:4d  0.004451  78.000000   True  0.007079   \n",
              "14  1.594512e+09  b8:27:eb:bf:9d:51  0.004965  50.900000  False  0.007660   \n",
              "15  1.594512e+09  00:0f:00:70:91:0a  0.002905  75.800003  False  0.005199   \n",
              "16  1.594512e+09  b8:27:eb:bf:9d:51  0.004976  50.900000  False  0.007673   \n",
              "17  1.594512e+09  b8:27:eb:bf:9d:51  0.004960  50.900000  False  0.007656   \n",
              "18  1.594512e+09  1c:bf:ce:15:ec:4d  0.004439  77.900002   True  0.007065   \n",
              "19  1.594512e+09  b8:27:eb:bf:9d:51  0.004956  50.900000  False  0.007651   \n",
              "20  1.594512e+09  00:0f:00:70:91:0a  0.002938  75.800003  False  0.005241   \n",
              "21  1.594512e+09  1c:bf:ce:15:ec:4d  0.004391  77.900002   True  0.007009   \n",
              "22  1.594512e+09  b8:27:eb:bf:9d:51  0.004952  50.800000  False  0.007646   \n",
              "23  1.594512e+09  00:0f:00:70:91:0a  0.002840  76.000000  False  0.005114   \n",
              "24  1.594512e+09  b8:27:eb:bf:9d:51  0.004962  50.900000  False  0.007657   \n",
              "25  1.594512e+09  00:0f:00:70:91:0a  0.002840  76.000000  False  0.005114   \n",
              "26  1.594512e+09  1c:bf:ce:15:ec:4d  0.004381  77.900002   True  0.006998   \n",
              "27  1.594512e+09  b8:27:eb:bf:9d:51  0.004926  50.900000  False  0.007618   \n",
              "28  1.594512e+09  1c:bf:ce:15:ec:4d  0.004344  78.300003   True  0.006955   \n",
              "29  1.594512e+09  b8:27:eb:bf:9d:51  0.004942  50.900000  False  0.007635   \n",
              "30  1.594512e+09  00:0f:00:70:91:0a  0.002905  75.900002  False  0.005199   \n",
              "31  1.594512e+09  b8:27:eb:bf:9d:51  0.004960  50.900000  False  0.007656   \n",
              "32  1.594512e+09  1c:bf:ce:15:ec:4d  0.004391  78.599998   True  0.007009   \n",
              "33  1.594512e+09  00:0f:00:70:91:0a  0.002840  76.000000  False  0.005114   \n",
              "34  1.594512e+09  b8:27:eb:bf:9d:51  0.004914  50.900000  False  0.007604   \n",
              "35  1.594512e+09  b8:27:eb:bf:9d:51  0.004975  50.900000  False  0.007672   \n",
              "36  1.594512e+09  1c:bf:ce:15:ec:4d  0.004391  78.300003   True  0.007009   \n",
              "37  1.594512e+09  00:0f:00:70:91:0a  0.002872  76.000000  False  0.005156   \n",
              "38  1.594512e+09  b8:27:eb:bf:9d:51  0.004970  50.900000  False  0.007667   \n",
              "39  1.594512e+09  1c:bf:ce:15:ec:4d  0.004391  78.199997   True  0.007009   \n",
              "\n",
              "    motion     smoke       temp       mean     gmean     hmean          var  \\\n",
              "0    False  0.020411  22.700000  14.746604  0.245731  0.013105   507.244728   \n",
              "1    False  0.013275  19.700001  19.144246  0.195924  0.008025  1082.894866   \n",
              "2    False  0.020475  22.600000  14.706625  0.245914  0.013151   505.036607   \n",
              "3    False  0.018628  27.000000  20.766012  0.260278  0.011814  1117.776178   \n",
              "4    False  0.020448  22.600000  14.706616  0.245700  0.013131   505.036943   \n",
              "5    False  0.018589  27.000000  20.985998  0.260664  0.011786  1148.837513   \n",
              "6    False  0.020475  22.600000  14.706625  0.245914  0.013151   505.036606   \n",
              "7    False  0.013628  19.700001  19.144362  0.199271  0.008270  1082.889338   \n",
              "8    False  0.018440  27.000000  20.985949  0.259311  0.011678  1148.840107   \n",
              "9    False  0.020457  22.600000  14.706619  0.245771  0.013138   505.036831   \n",
              "10   False  0.020425  22.600000  14.706608  0.245523  0.013115   505.037222   \n",
              "11   False  0.018563  27.000000  21.005989  0.260495  0.011767  1151.685624   \n",
              "12   False  0.020461  22.600000  14.706620  0.245806  0.013141   505.036777   \n",
              "13   False  0.018786  27.000000  21.006063  0.262518  0.011928  1151.681729   \n",
              "14   False  0.020439  22.600000  14.706613  0.245631  0.013125   505.037052   \n",
              "15   False  0.013509  19.700001  19.104323  0.198043  0.008188  1077.213719   \n",
              "16   False  0.020475  22.600000  14.706625  0.245913  0.013151   505.036608   \n",
              "17   False  0.020425  22.600000  14.706608  0.245523  0.013115   505.037222   \n",
              "18   False  0.018747  27.000000  20.986051  0.262092  0.011899  1148.834767   \n",
              "19   False  0.020412  22.600000  14.706604  0.245422  0.013105   505.037381   \n",
              "20   False  0.013628  19.700001  19.104362  0.199166  0.008270  1077.211860   \n",
              "21   False  0.018589  27.000000  20.985998  0.260664  0.011786  1148.837513   \n",
              "22   False  0.020398  22.600000  14.686599  0.245217  0.013095   503.229882   \n",
              "23   False  0.013275  19.700001  19.144246  0.195924  0.008025  1082.894866   \n",
              "24   False  0.020429  22.600000  14.706610  0.245559  0.013118   505.037166   \n",
              "25   False  0.013275  19.799999  19.164246  0.196122  0.008025  1082.924653   \n",
              "26   False  0.018556  27.000000  20.985987  0.260369  0.011762  1148.838079   \n",
              "27   False  0.020317  22.600000  14.706572  0.244682  0.013036   505.038546   \n",
              "28   False  0.018433  27.000000  21.065947  0.259518  0.011674  1160.255073   \n",
              "29   False  0.020366  22.600000  14.706589  0.245067  0.013072   505.037940   \n",
              "30   False  0.013509  19.700001  19.124323  0.198095  0.008188  1080.050460   \n",
              "31   False  0.020425  22.600000  14.706608  0.245523  0.013115   505.037222   \n",
              "32   False  0.018589  27.000000  21.125998  0.261131  0.011786  1168.855327   \n",
              "33   False  0.013275  19.799999  19.164246  0.196122  0.008025  1082.924653   \n",
              "34   False  0.020276  22.600000  14.706559  0.244369  0.013007   505.039037   \n",
              "35   False  0.020470  22.700000  14.726623  0.246094  0.013148   505.433333   \n",
              "36   False  0.018589  27.000000  21.065998  0.260931  0.011786  1160.252358   \n",
              "37   False  0.013391  19.799999  19.164284  0.197231  0.008106  1082.922828   \n",
              "38   False  0.020457  22.700000  14.726619  0.245989  0.013138   505.433499   \n",
              "39   False  0.018589  27.000000  21.045997  0.260864  0.011786  1157.392483   \n",
              "\n",
              "    kurtosis      skew  \n",
              "0  -0.725326  0.943233  \n",
              "1  -0.108093  1.276663  \n",
              "2  -0.721394  0.945249  \n",
              "3  -0.394623  1.117057  \n",
              "4  -0.721394  0.945249  \n",
              "5  -0.377846  1.126135  \n",
              "6  -0.721394  0.945249  \n",
              "7  -0.108088  1.276666  \n",
              "8  -0.377849  1.126134  \n",
              "9  -0.721394  0.945249  \n",
              "10 -0.721395  0.945248  \n",
              "11 -0.376351  1.126946  \n",
              "12 -0.721394  0.945249  \n",
              "13 -0.376348  1.126948  \n",
              "14 -0.721394  0.945249  \n",
              "15 -0.109972  1.275580  \n",
              "16 -0.721394  0.945249  \n",
              "17 -0.721395  0.945248  \n",
              "18 -0.377844  1.126136  \n",
              "19 -0.721395  0.945248  \n",
              "20 -0.109970  1.275581  \n",
              "21 -0.377846  1.126135  \n",
              "22 -0.724545  0.943633  \n",
              "23 -0.108093  1.276663  \n",
              "24 -0.721395  0.945249  \n",
              "25 -0.111719  1.274573  \n",
              "26 -0.377847  1.126135  \n",
              "27 -0.721397  0.945247  \n",
              "28 -0.371894  1.129363  \n",
              "29 -0.721396  0.945248  \n",
              "30 -0.109029  1.276123  \n",
              "31 -0.721395  0.945248  \n",
              "32 -0.367476  1.131761  \n",
              "33 -0.111719  1.274573  \n",
              "34 -0.721398  0.945247  \n",
              "35 -0.728476  0.941618  \n",
              "36 -0.371892  1.129364  \n",
              "37 -0.111717  1.274574  \n",
              "38 -0.728476  0.941618  \n",
              "39 -0.373373  1.128560  "
            ],
            "text/html": [
              "\n",
              "  <div id=\"df-9a2b9348-e426-41f6-939e-58e683095c98\">\n",
              "    <div class=\"colab-df-container\">\n",
              "      <div>\n",
              "<style scoped>\n",
              "    .dataframe tbody tr th:only-of-type {\n",
              "        vertical-align: middle;\n",
              "    }\n",
              "\n",
              "    .dataframe tbody tr th {\n",
              "        vertical-align: top;\n",
              "    }\n",
              "\n",
              "    .dataframe thead th {\n",
              "        text-align: right;\n",
              "    }\n",
              "</style>\n",
              "<table border=\"1\" class=\"dataframe\">\n",
              "  <thead>\n",
              "    <tr style=\"text-align: right;\">\n",
              "      <th></th>\n",
              "      <th>ts</th>\n",
              "      <th>device</th>\n",
              "      <th>co</th>\n",
              "      <th>humidity</th>\n",
              "      <th>light</th>\n",
              "      <th>lpg</th>\n",
              "      <th>motion</th>\n",
              "      <th>smoke</th>\n",
              "      <th>temp</th>\n",
              "      <th>mean</th>\n",
              "      <th>gmean</th>\n",
              "      <th>hmean</th>\n",
              "      <th>var</th>\n",
              "      <th>kurtosis</th>\n",
              "      <th>skew</th>\n",
              "    </tr>\n",
              "  </thead>\n",
              "  <tbody>\n",
              "    <tr>\n",
              "      <th>0</th>\n",
              "      <td>1.594512e+09</td>\n",
              "      <td>b8:27:eb:bf:9d:51</td>\n",
              "      <td>0.004956</td>\n",
              "      <td>51.000000</td>\n",
              "      <td>False</td>\n",
              "      <td>0.007651</td>\n",
              "      <td>False</td>\n",
              "      <td>0.020411</td>\n",
              "      <td>22.700000</td>\n",
              "      <td>14.746604</td>\n",
              "      <td>0.245731</td>\n",
              "      <td>0.013105</td>\n",
              "      <td>507.244728</td>\n",
              "      <td>-0.725326</td>\n",
              "      <td>0.943233</td>\n",
              "    </tr>\n",
              "    <tr>\n",
              "      <th>1</th>\n",
              "      <td>1.594512e+09</td>\n",
              "      <td>00:0f:00:70:91:0a</td>\n",
              "      <td>0.002840</td>\n",
              "      <td>76.000000</td>\n",
              "      <td>False</td>\n",
              "      <td>0.005114</td>\n",
              "      <td>False</td>\n",
              "      <td>0.013275</td>\n",
              "      <td>19.700001</td>\n",
              "      <td>19.144246</td>\n",
              "      <td>0.195924</td>\n",
              "      <td>0.008025</td>\n",
              "      <td>1082.894866</td>\n",
              "      <td>-0.108093</td>\n",
              "      <td>1.276663</td>\n",
              "    </tr>\n",
              "    <tr>\n",
              "      <th>2</th>\n",
              "      <td>1.594512e+09</td>\n",
              "      <td>b8:27:eb:bf:9d:51</td>\n",
              "      <td>0.004976</td>\n",
              "      <td>50.900000</td>\n",
              "      <td>False</td>\n",
              "      <td>0.007673</td>\n",
              "      <td>False</td>\n",
              "      <td>0.020475</td>\n",
              "      <td>22.600000</td>\n",
              "      <td>14.706625</td>\n",
              "      <td>0.245914</td>\n",
              "      <td>0.013151</td>\n",
              "      <td>505.036607</td>\n",
              "      <td>-0.721394</td>\n",
              "      <td>0.945249</td>\n",
              "    </tr>\n",
              "    <tr>\n",
              "      <th>3</th>\n",
              "      <td>1.594512e+09</td>\n",
              "      <td>1c:bf:ce:15:ec:4d</td>\n",
              "      <td>0.004403</td>\n",
              "      <td>76.800003</td>\n",
              "      <td>True</td>\n",
              "      <td>0.007023</td>\n",
              "      <td>False</td>\n",
              "      <td>0.018628</td>\n",
              "      <td>27.000000</td>\n",
              "      <td>20.766012</td>\n",
              "      <td>0.260278</td>\n",
              "      <td>0.011814</td>\n",
              "      <td>1117.776178</td>\n",
              "      <td>-0.394623</td>\n",
              "      <td>1.117057</td>\n",
              "    </tr>\n",
              "    <tr>\n",
              "      <th>4</th>\n",
              "      <td>1.594512e+09</td>\n",
              "      <td>b8:27:eb:bf:9d:51</td>\n",
              "      <td>0.004967</td>\n",
              "      <td>50.900000</td>\n",
              "      <td>False</td>\n",
              "      <td>0.007664</td>\n",
              "      <td>False</td>\n",
              "      <td>0.020448</td>\n",
              "      <td>22.600000</td>\n",
              "      <td>14.706616</td>\n",
              "      <td>0.245700</td>\n",
              "      <td>0.013131</td>\n",
              "      <td>505.036943</td>\n",
              "      <td>-0.721394</td>\n",
              "      <td>0.945249</td>\n",
              "    </tr>\n",
              "    <tr>\n",
              "      <th>5</th>\n",
              "      <td>1.594512e+09</td>\n",
              "      <td>1c:bf:ce:15:ec:4d</td>\n",
              "      <td>0.004391</td>\n",
              "      <td>77.900002</td>\n",
              "      <td>True</td>\n",
              "      <td>0.007009</td>\n",
              "      <td>False</td>\n",
              "      <td>0.018589</td>\n",
              "      <td>27.000000</td>\n",
              "      <td>20.985998</td>\n",
              "      <td>0.260664</td>\n",
              "      <td>0.011786</td>\n",
              "      <td>1148.837513</td>\n",
              "      <td>-0.377846</td>\n",
              "      <td>1.126135</td>\n",
              "    </tr>\n",
              "    <tr>\n",
              "      <th>6</th>\n",
              "      <td>1.594512e+09</td>\n",
              "      <td>b8:27:eb:bf:9d:51</td>\n",
              "      <td>0.004976</td>\n",
              "      <td>50.900000</td>\n",
              "      <td>False</td>\n",
              "      <td>0.007673</td>\n",
              "      <td>False</td>\n",
              "      <td>0.020475</td>\n",
              "      <td>22.600000</td>\n",
              "      <td>14.706625</td>\n",
              "      <td>0.245914</td>\n",
              "      <td>0.013151</td>\n",
              "      <td>505.036606</td>\n",
              "      <td>-0.721394</td>\n",
              "      <td>0.945249</td>\n",
              "    </tr>\n",
              "    <tr>\n",
              "      <th>7</th>\n",
              "      <td>1.594512e+09</td>\n",
              "      <td>00:0f:00:70:91:0a</td>\n",
              "      <td>0.002938</td>\n",
              "      <td>76.000000</td>\n",
              "      <td>False</td>\n",
              "      <td>0.005241</td>\n",
              "      <td>False</td>\n",
              "      <td>0.013628</td>\n",
              "      <td>19.700001</td>\n",
              "      <td>19.144362</td>\n",
              "      <td>0.199271</td>\n",
              "      <td>0.008270</td>\n",
              "      <td>1082.889338</td>\n",
              "      <td>-0.108088</td>\n",
              "      <td>1.276666</td>\n",
              "    </tr>\n",
              "    <tr>\n",
              "      <th>8</th>\n",
              "      <td>1.594512e+09</td>\n",
              "      <td>1c:bf:ce:15:ec:4d</td>\n",
              "      <td>0.004345</td>\n",
              "      <td>77.900002</td>\n",
              "      <td>True</td>\n",
              "      <td>0.006957</td>\n",
              "      <td>False</td>\n",
              "      <td>0.018440</td>\n",
              "      <td>27.000000</td>\n",
              "      <td>20.985949</td>\n",
              "      <td>0.259311</td>\n",
              "      <td>0.011678</td>\n",
              "      <td>1148.840107</td>\n",
              "      <td>-0.377849</td>\n",
              "      <td>1.126134</td>\n",
              "    </tr>\n",
              "    <tr>\n",
              "      <th>9</th>\n",
              "      <td>1.594512e+09</td>\n",
              "      <td>b8:27:eb:bf:9d:51</td>\n",
              "      <td>0.004970</td>\n",
              "      <td>50.900000</td>\n",
              "      <td>False</td>\n",
              "      <td>0.007667</td>\n",
              "      <td>False</td>\n",
              "      <td>0.020457</td>\n",
              "      <td>22.600000</td>\n",
              "      <td>14.706619</td>\n",
              "      <td>0.245771</td>\n",
              "      <td>0.013138</td>\n",
              "      <td>505.036831</td>\n",
              "      <td>-0.721394</td>\n",
              "      <td>0.945249</td>\n",
              "    </tr>\n",
              "    <tr>\n",
              "      <th>10</th>\n",
              "      <td>1.594512e+09</td>\n",
              "      <td>b8:27:eb:bf:9d:51</td>\n",
              "      <td>0.004960</td>\n",
              "      <td>50.900000</td>\n",
              "      <td>False</td>\n",
              "      <td>0.007656</td>\n",
              "      <td>False</td>\n",
              "      <td>0.020425</td>\n",
              "      <td>22.600000</td>\n",
              "      <td>14.706608</td>\n",
              "      <td>0.245523</td>\n",
              "      <td>0.013115</td>\n",
              "      <td>505.037222</td>\n",
              "      <td>-0.721395</td>\n",
              "      <td>0.945248</td>\n",
              "    </tr>\n",
              "    <tr>\n",
              "      <th>11</th>\n",
              "      <td>1.594512e+09</td>\n",
              "      <td>1c:bf:ce:15:ec:4d</td>\n",
              "      <td>0.004383</td>\n",
              "      <td>78.000000</td>\n",
              "      <td>True</td>\n",
              "      <td>0.007000</td>\n",
              "      <td>False</td>\n",
              "      <td>0.018563</td>\n",
              "      <td>27.000000</td>\n",
              "      <td>21.005989</td>\n",
              "      <td>0.260495</td>\n",
              "      <td>0.011767</td>\n",
              "      <td>1151.685624</td>\n",
              "      <td>-0.376351</td>\n",
              "      <td>1.126946</td>\n",
              "    </tr>\n",
              "    <tr>\n",
              "      <th>12</th>\n",
              "      <td>1.594512e+09</td>\n",
              "      <td>b8:27:eb:bf:9d:51</td>\n",
              "      <td>0.004972</td>\n",
              "      <td>50.900000</td>\n",
              "      <td>False</td>\n",
              "      <td>0.007668</td>\n",
              "      <td>False</td>\n",
              "      <td>0.020461</td>\n",
              "      <td>22.600000</td>\n",
              "      <td>14.706620</td>\n",
              "      <td>0.245806</td>\n",
              "      <td>0.013141</td>\n",
              "      <td>505.036777</td>\n",
              "      <td>-0.721394</td>\n",
              "      <td>0.945249</td>\n",
              "    </tr>\n",
              "    <tr>\n",
              "      <th>13</th>\n",
              "      <td>1.594512e+09</td>\n",
              "      <td>1c:bf:ce:15:ec:4d</td>\n",
              "      <td>0.004451</td>\n",
              "      <td>78.000000</td>\n",
              "      <td>True</td>\n",
              "      <td>0.007079</td>\n",
              "      <td>False</td>\n",
              "      <td>0.018786</td>\n",
              "      <td>27.000000</td>\n",
              "      <td>21.006063</td>\n",
              "      <td>0.262518</td>\n",
              "      <td>0.011928</td>\n",
              "      <td>1151.681729</td>\n",
              "      <td>-0.376348</td>\n",
              "      <td>1.126948</td>\n",
              "    </tr>\n",
              "    <tr>\n",
              "      <th>14</th>\n",
              "      <td>1.594512e+09</td>\n",
              "      <td>b8:27:eb:bf:9d:51</td>\n",
              "      <td>0.004965</td>\n",
              "      <td>50.900000</td>\n",
              "      <td>False</td>\n",
              "      <td>0.007660</td>\n",
              "      <td>False</td>\n",
              "      <td>0.020439</td>\n",
              "      <td>22.600000</td>\n",
              "      <td>14.706613</td>\n",
              "      <td>0.245631</td>\n",
              "      <td>0.013125</td>\n",
              "      <td>505.037052</td>\n",
              "      <td>-0.721394</td>\n",
              "      <td>0.945249</td>\n",
              "    </tr>\n",
              "    <tr>\n",
              "      <th>15</th>\n",
              "      <td>1.594512e+09</td>\n",
              "      <td>00:0f:00:70:91:0a</td>\n",
              "      <td>0.002905</td>\n",
              "      <td>75.800003</td>\n",
              "      <td>False</td>\n",
              "      <td>0.005199</td>\n",
              "      <td>False</td>\n",
              "      <td>0.013509</td>\n",
              "      <td>19.700001</td>\n",
              "      <td>19.104323</td>\n",
              "      <td>0.198043</td>\n",
              "      <td>0.008188</td>\n",
              "      <td>1077.213719</td>\n",
              "      <td>-0.109972</td>\n",
              "      <td>1.275580</td>\n",
              "    </tr>\n",
              "    <tr>\n",
              "      <th>16</th>\n",
              "      <td>1.594512e+09</td>\n",
              "      <td>b8:27:eb:bf:9d:51</td>\n",
              "      <td>0.004976</td>\n",
              "      <td>50.900000</td>\n",
              "      <td>False</td>\n",
              "      <td>0.007673</td>\n",
              "      <td>False</td>\n",
              "      <td>0.020475</td>\n",
              "      <td>22.600000</td>\n",
              "      <td>14.706625</td>\n",
              "      <td>0.245913</td>\n",
              "      <td>0.013151</td>\n",
              "      <td>505.036608</td>\n",
              "      <td>-0.721394</td>\n",
              "      <td>0.945249</td>\n",
              "    </tr>\n",
              "    <tr>\n",
              "      <th>17</th>\n",
              "      <td>1.594512e+09</td>\n",
              "      <td>b8:27:eb:bf:9d:51</td>\n",
              "      <td>0.004960</td>\n",
              "      <td>50.900000</td>\n",
              "      <td>False</td>\n",
              "      <td>0.007656</td>\n",
              "      <td>False</td>\n",
              "      <td>0.020425</td>\n",
              "      <td>22.600000</td>\n",
              "      <td>14.706608</td>\n",
              "      <td>0.245523</td>\n",
              "      <td>0.013115</td>\n",
              "      <td>505.037222</td>\n",
              "      <td>-0.721395</td>\n",
              "      <td>0.945248</td>\n",
              "    </tr>\n",
              "    <tr>\n",
              "      <th>18</th>\n",
              "      <td>1.594512e+09</td>\n",
              "      <td>1c:bf:ce:15:ec:4d</td>\n",
              "      <td>0.004439</td>\n",
              "      <td>77.900002</td>\n",
              "      <td>True</td>\n",
              "      <td>0.007065</td>\n",
              "      <td>False</td>\n",
              "      <td>0.018747</td>\n",
              "      <td>27.000000</td>\n",
              "      <td>20.986051</td>\n",
              "      <td>0.262092</td>\n",
              "      <td>0.011899</td>\n",
              "      <td>1148.834767</td>\n",
              "      <td>-0.377844</td>\n",
              "      <td>1.126136</td>\n",
              "    </tr>\n",
              "    <tr>\n",
              "      <th>19</th>\n",
              "      <td>1.594512e+09</td>\n",
              "      <td>b8:27:eb:bf:9d:51</td>\n",
              "      <td>0.004956</td>\n",
              "      <td>50.900000</td>\n",
              "      <td>False</td>\n",
              "      <td>0.007651</td>\n",
              "      <td>False</td>\n",
              "      <td>0.020412</td>\n",
              "      <td>22.600000</td>\n",
              "      <td>14.706604</td>\n",
              "      <td>0.245422</td>\n",
              "      <td>0.013105</td>\n",
              "      <td>505.037381</td>\n",
              "      <td>-0.721395</td>\n",
              "      <td>0.945248</td>\n",
              "    </tr>\n",
              "    <tr>\n",
              "      <th>20</th>\n",
              "      <td>1.594512e+09</td>\n",
              "      <td>00:0f:00:70:91:0a</td>\n",
              "      <td>0.002938</td>\n",
              "      <td>75.800003</td>\n",
              "      <td>False</td>\n",
              "      <td>0.005241</td>\n",
              "      <td>False</td>\n",
              "      <td>0.013628</td>\n",
              "      <td>19.700001</td>\n",
              "      <td>19.104362</td>\n",
              "      <td>0.199166</td>\n",
              "      <td>0.008270</td>\n",
              "      <td>1077.211860</td>\n",
              "      <td>-0.109970</td>\n",
              "      <td>1.275581</td>\n",
              "    </tr>\n",
              "    <tr>\n",
              "      <th>21</th>\n",
              "      <td>1.594512e+09</td>\n",
              "      <td>1c:bf:ce:15:ec:4d</td>\n",
              "      <td>0.004391</td>\n",
              "      <td>77.900002</td>\n",
              "      <td>True</td>\n",
              "      <td>0.007009</td>\n",
              "      <td>False</td>\n",
              "      <td>0.018589</td>\n",
              "      <td>27.000000</td>\n",
              "      <td>20.985998</td>\n",
              "      <td>0.260664</td>\n",
              "      <td>0.011786</td>\n",
              "      <td>1148.837513</td>\n",
              "      <td>-0.377846</td>\n",
              "      <td>1.126135</td>\n",
              "    </tr>\n",
              "    <tr>\n",
              "      <th>22</th>\n",
              "      <td>1.594512e+09</td>\n",
              "      <td>b8:27:eb:bf:9d:51</td>\n",
              "      <td>0.004952</td>\n",
              "      <td>50.800000</td>\n",
              "      <td>False</td>\n",
              "      <td>0.007646</td>\n",
              "      <td>False</td>\n",
              "      <td>0.020398</td>\n",
              "      <td>22.600000</td>\n",
              "      <td>14.686599</td>\n",
              "      <td>0.245217</td>\n",
              "      <td>0.013095</td>\n",
              "      <td>503.229882</td>\n",
              "      <td>-0.724545</td>\n",
              "      <td>0.943633</td>\n",
              "    </tr>\n",
              "    <tr>\n",
              "      <th>23</th>\n",
              "      <td>1.594512e+09</td>\n",
              "      <td>00:0f:00:70:91:0a</td>\n",
              "      <td>0.002840</td>\n",
              "      <td>76.000000</td>\n",
              "      <td>False</td>\n",
              "      <td>0.005114</td>\n",
              "      <td>False</td>\n",
              "      <td>0.013275</td>\n",
              "      <td>19.700001</td>\n",
              "      <td>19.144246</td>\n",
              "      <td>0.195924</td>\n",
              "      <td>0.008025</td>\n",
              "      <td>1082.894866</td>\n",
              "      <td>-0.108093</td>\n",
              "      <td>1.276663</td>\n",
              "    </tr>\n",
              "    <tr>\n",
              "      <th>24</th>\n",
              "      <td>1.594512e+09</td>\n",
              "      <td>b8:27:eb:bf:9d:51</td>\n",
              "      <td>0.004962</td>\n",
              "      <td>50.900000</td>\n",
              "      <td>False</td>\n",
              "      <td>0.007657</td>\n",
              "      <td>False</td>\n",
              "      <td>0.020429</td>\n",
              "      <td>22.600000</td>\n",
              "      <td>14.706610</td>\n",
              "      <td>0.245559</td>\n",
              "      <td>0.013118</td>\n",
              "      <td>505.037166</td>\n",
              "      <td>-0.721395</td>\n",
              "      <td>0.945249</td>\n",
              "    </tr>\n",
              "    <tr>\n",
              "      <th>25</th>\n",
              "      <td>1.594512e+09</td>\n",
              "      <td>00:0f:00:70:91:0a</td>\n",
              "      <td>0.002840</td>\n",
              "      <td>76.000000</td>\n",
              "      <td>False</td>\n",
              "      <td>0.005114</td>\n",
              "      <td>False</td>\n",
              "      <td>0.013275</td>\n",
              "      <td>19.799999</td>\n",
              "      <td>19.164246</td>\n",
              "      <td>0.196122</td>\n",
              "      <td>0.008025</td>\n",
              "      <td>1082.924653</td>\n",
              "      <td>-0.111719</td>\n",
              "      <td>1.274573</td>\n",
              "    </tr>\n",
              "    <tr>\n",
              "      <th>26</th>\n",
              "      <td>1.594512e+09</td>\n",
              "      <td>1c:bf:ce:15:ec:4d</td>\n",
              "      <td>0.004381</td>\n",
              "      <td>77.900002</td>\n",
              "      <td>True</td>\n",
              "      <td>0.006998</td>\n",
              "      <td>False</td>\n",
              "      <td>0.018556</td>\n",
              "      <td>27.000000</td>\n",
              "      <td>20.985987</td>\n",
              "      <td>0.260369</td>\n",
              "      <td>0.011762</td>\n",
              "      <td>1148.838079</td>\n",
              "      <td>-0.377847</td>\n",
              "      <td>1.126135</td>\n",
              "    </tr>\n",
              "    <tr>\n",
              "      <th>27</th>\n",
              "      <td>1.594512e+09</td>\n",
              "      <td>b8:27:eb:bf:9d:51</td>\n",
              "      <td>0.004926</td>\n",
              "      <td>50.900000</td>\n",
              "      <td>False</td>\n",
              "      <td>0.007618</td>\n",
              "      <td>False</td>\n",
              "      <td>0.020317</td>\n",
              "      <td>22.600000</td>\n",
              "      <td>14.706572</td>\n",
              "      <td>0.244682</td>\n",
              "      <td>0.013036</td>\n",
              "      <td>505.038546</td>\n",
              "      <td>-0.721397</td>\n",
              "      <td>0.945247</td>\n",
              "    </tr>\n",
              "    <tr>\n",
              "      <th>28</th>\n",
              "      <td>1.594512e+09</td>\n",
              "      <td>1c:bf:ce:15:ec:4d</td>\n",
              "      <td>0.004344</td>\n",
              "      <td>78.300003</td>\n",
              "      <td>True</td>\n",
              "      <td>0.006955</td>\n",
              "      <td>False</td>\n",
              "      <td>0.018433</td>\n",
              "      <td>27.000000</td>\n",
              "      <td>21.065947</td>\n",
              "      <td>0.259518</td>\n",
              "      <td>0.011674</td>\n",
              "      <td>1160.255073</td>\n",
              "      <td>-0.371894</td>\n",
              "      <td>1.129363</td>\n",
              "    </tr>\n",
              "    <tr>\n",
              "      <th>29</th>\n",
              "      <td>1.594512e+09</td>\n",
              "      <td>b8:27:eb:bf:9d:51</td>\n",
              "      <td>0.004942</td>\n",
              "      <td>50.900000</td>\n",
              "      <td>False</td>\n",
              "      <td>0.007635</td>\n",
              "      <td>False</td>\n",
              "      <td>0.020366</td>\n",
              "      <td>22.600000</td>\n",
              "      <td>14.706589</td>\n",
              "      <td>0.245067</td>\n",
              "      <td>0.013072</td>\n",
              "      <td>505.037940</td>\n",
              "      <td>-0.721396</td>\n",
              "      <td>0.945248</td>\n",
              "    </tr>\n",
              "    <tr>\n",
              "      <th>30</th>\n",
              "      <td>1.594512e+09</td>\n",
              "      <td>00:0f:00:70:91:0a</td>\n",
              "      <td>0.002905</td>\n",
              "      <td>75.900002</td>\n",
              "      <td>False</td>\n",
              "      <td>0.005199</td>\n",
              "      <td>False</td>\n",
              "      <td>0.013509</td>\n",
              "      <td>19.700001</td>\n",
              "      <td>19.124323</td>\n",
              "      <td>0.198095</td>\n",
              "      <td>0.008188</td>\n",
              "      <td>1080.050460</td>\n",
              "      <td>-0.109029</td>\n",
              "      <td>1.276123</td>\n",
              "    </tr>\n",
              "    <tr>\n",
              "      <th>31</th>\n",
              "      <td>1.594512e+09</td>\n",
              "      <td>b8:27:eb:bf:9d:51</td>\n",
              "      <td>0.004960</td>\n",
              "      <td>50.900000</td>\n",
              "      <td>False</td>\n",
              "      <td>0.007656</td>\n",
              "      <td>False</td>\n",
              "      <td>0.020425</td>\n",
              "      <td>22.600000</td>\n",
              "      <td>14.706608</td>\n",
              "      <td>0.245523</td>\n",
              "      <td>0.013115</td>\n",
              "      <td>505.037222</td>\n",
              "      <td>-0.721395</td>\n",
              "      <td>0.945248</td>\n",
              "    </tr>\n",
              "    <tr>\n",
              "      <th>32</th>\n",
              "      <td>1.594512e+09</td>\n",
              "      <td>1c:bf:ce:15:ec:4d</td>\n",
              "      <td>0.004391</td>\n",
              "      <td>78.599998</td>\n",
              "      <td>True</td>\n",
              "      <td>0.007009</td>\n",
              "      <td>False</td>\n",
              "      <td>0.018589</td>\n",
              "      <td>27.000000</td>\n",
              "      <td>21.125998</td>\n",
              "      <td>0.261131</td>\n",
              "      <td>0.011786</td>\n",
              "      <td>1168.855327</td>\n",
              "      <td>-0.367476</td>\n",
              "      <td>1.131761</td>\n",
              "    </tr>\n",
              "    <tr>\n",
              "      <th>33</th>\n",
              "      <td>1.594512e+09</td>\n",
              "      <td>00:0f:00:70:91:0a</td>\n",
              "      <td>0.002840</td>\n",
              "      <td>76.000000</td>\n",
              "      <td>False</td>\n",
              "      <td>0.005114</td>\n",
              "      <td>False</td>\n",
              "      <td>0.013275</td>\n",
              "      <td>19.799999</td>\n",
              "      <td>19.164246</td>\n",
              "      <td>0.196122</td>\n",
              "      <td>0.008025</td>\n",
              "      <td>1082.924653</td>\n",
              "      <td>-0.111719</td>\n",
              "      <td>1.274573</td>\n",
              "    </tr>\n",
              "    <tr>\n",
              "      <th>34</th>\n",
              "      <td>1.594512e+09</td>\n",
              "      <td>b8:27:eb:bf:9d:51</td>\n",
              "      <td>0.004914</td>\n",
              "      <td>50.900000</td>\n",
              "      <td>False</td>\n",
              "      <td>0.007604</td>\n",
              "      <td>False</td>\n",
              "      <td>0.020276</td>\n",
              "      <td>22.600000</td>\n",
              "      <td>14.706559</td>\n",
              "      <td>0.244369</td>\n",
              "      <td>0.013007</td>\n",
              "      <td>505.039037</td>\n",
              "      <td>-0.721398</td>\n",
              "      <td>0.945247</td>\n",
              "    </tr>\n",
              "    <tr>\n",
              "      <th>35</th>\n",
              "      <td>1.594512e+09</td>\n",
              "      <td>b8:27:eb:bf:9d:51</td>\n",
              "      <td>0.004975</td>\n",
              "      <td>50.900000</td>\n",
              "      <td>False</td>\n",
              "      <td>0.007672</td>\n",
              "      <td>False</td>\n",
              "      <td>0.020470</td>\n",
              "      <td>22.700000</td>\n",
              "      <td>14.726623</td>\n",
              "      <td>0.246094</td>\n",
              "      <td>0.013148</td>\n",
              "      <td>505.433333</td>\n",
              "      <td>-0.728476</td>\n",
              "      <td>0.941618</td>\n",
              "    </tr>\n",
              "    <tr>\n",
              "      <th>36</th>\n",
              "      <td>1.594512e+09</td>\n",
              "      <td>1c:bf:ce:15:ec:4d</td>\n",
              "      <td>0.004391</td>\n",
              "      <td>78.300003</td>\n",
              "      <td>True</td>\n",
              "      <td>0.007009</td>\n",
              "      <td>False</td>\n",
              "      <td>0.018589</td>\n",
              "      <td>27.000000</td>\n",
              "      <td>21.065998</td>\n",
              "      <td>0.260931</td>\n",
              "      <td>0.011786</td>\n",
              "      <td>1160.252358</td>\n",
              "      <td>-0.371892</td>\n",
              "      <td>1.129364</td>\n",
              "    </tr>\n",
              "    <tr>\n",
              "      <th>37</th>\n",
              "      <td>1.594512e+09</td>\n",
              "      <td>00:0f:00:70:91:0a</td>\n",
              "      <td>0.002872</td>\n",
              "      <td>76.000000</td>\n",
              "      <td>False</td>\n",
              "      <td>0.005156</td>\n",
              "      <td>False</td>\n",
              "      <td>0.013391</td>\n",
              "      <td>19.799999</td>\n",
              "      <td>19.164284</td>\n",
              "      <td>0.197231</td>\n",
              "      <td>0.008106</td>\n",
              "      <td>1082.922828</td>\n",
              "      <td>-0.111717</td>\n",
              "      <td>1.274574</td>\n",
              "    </tr>\n",
              "    <tr>\n",
              "      <th>38</th>\n",
              "      <td>1.594512e+09</td>\n",
              "      <td>b8:27:eb:bf:9d:51</td>\n",
              "      <td>0.004970</td>\n",
              "      <td>50.900000</td>\n",
              "      <td>False</td>\n",
              "      <td>0.007667</td>\n",
              "      <td>False</td>\n",
              "      <td>0.020457</td>\n",
              "      <td>22.700000</td>\n",
              "      <td>14.726619</td>\n",
              "      <td>0.245989</td>\n",
              "      <td>0.013138</td>\n",
              "      <td>505.433499</td>\n",
              "      <td>-0.728476</td>\n",
              "      <td>0.941618</td>\n",
              "    </tr>\n",
              "    <tr>\n",
              "      <th>39</th>\n",
              "      <td>1.594512e+09</td>\n",
              "      <td>1c:bf:ce:15:ec:4d</td>\n",
              "      <td>0.004391</td>\n",
              "      <td>78.199997</td>\n",
              "      <td>True</td>\n",
              "      <td>0.007009</td>\n",
              "      <td>False</td>\n",
              "      <td>0.018589</td>\n",
              "      <td>27.000000</td>\n",
              "      <td>21.045997</td>\n",
              "      <td>0.260864</td>\n",
              "      <td>0.011786</td>\n",
              "      <td>1157.392483</td>\n",
              "      <td>-0.373373</td>\n",
              "      <td>1.128560</td>\n",
              "    </tr>\n",
              "  </tbody>\n",
              "</table>\n",
              "</div>\n",
              "      <button class=\"colab-df-convert\" onclick=\"convertToInteractive('df-9a2b9348-e426-41f6-939e-58e683095c98')\"\n",
              "              title=\"Convert this dataframe to an interactive table.\"\n",
              "              style=\"display:none;\">\n",
              "        \n",
              "  <svg xmlns=\"http://www.w3.org/2000/svg\" height=\"24px\"viewBox=\"0 0 24 24\"\n",
              "       width=\"24px\">\n",
              "    <path d=\"M0 0h24v24H0V0z\" fill=\"none\"/>\n",
              "    <path d=\"M18.56 5.44l.94 2.06.94-2.06 2.06-.94-2.06-.94-.94-2.06-.94 2.06-2.06.94zm-11 1L8.5 8.5l.94-2.06 2.06-.94-2.06-.94L8.5 2.5l-.94 2.06-2.06.94zm10 10l.94 2.06.94-2.06 2.06-.94-2.06-.94-.94-2.06-.94 2.06-2.06.94z\"/><path d=\"M17.41 7.96l-1.37-1.37c-.4-.4-.92-.59-1.43-.59-.52 0-1.04.2-1.43.59L10.3 9.45l-7.72 7.72c-.78.78-.78 2.05 0 2.83L4 21.41c.39.39.9.59 1.41.59.51 0 1.02-.2 1.41-.59l7.78-7.78 2.81-2.81c.8-.78.8-2.07 0-2.86zM5.41 20L4 18.59l7.72-7.72 1.47 1.35L5.41 20z\"/>\n",
              "  </svg>\n",
              "      </button>\n",
              "      \n",
              "  <style>\n",
              "    .colab-df-container {\n",
              "      display:flex;\n",
              "      flex-wrap:wrap;\n",
              "      gap: 12px;\n",
              "    }\n",
              "\n",
              "    .colab-df-convert {\n",
              "      background-color: #E8F0FE;\n",
              "      border: none;\n",
              "      border-radius: 50%;\n",
              "      cursor: pointer;\n",
              "      display: none;\n",
              "      fill: #1967D2;\n",
              "      height: 32px;\n",
              "      padding: 0 0 0 0;\n",
              "      width: 32px;\n",
              "    }\n",
              "\n",
              "    .colab-df-convert:hover {\n",
              "      background-color: #E2EBFA;\n",
              "      box-shadow: 0px 1px 2px rgba(60, 64, 67, 0.3), 0px 1px 3px 1px rgba(60, 64, 67, 0.15);\n",
              "      fill: #174EA6;\n",
              "    }\n",
              "\n",
              "    [theme=dark] .colab-df-convert {\n",
              "      background-color: #3B4455;\n",
              "      fill: #D2E3FC;\n",
              "    }\n",
              "\n",
              "    [theme=dark] .colab-df-convert:hover {\n",
              "      background-color: #434B5C;\n",
              "      box-shadow: 0px 1px 3px 1px rgba(0, 0, 0, 0.15);\n",
              "      filter: drop-shadow(0px 1px 2px rgba(0, 0, 0, 0.3));\n",
              "      fill: #FFFFFF;\n",
              "    }\n",
              "  </style>\n",
              "\n",
              "      <script>\n",
              "        const buttonEl =\n",
              "          document.querySelector('#df-9a2b9348-e426-41f6-939e-58e683095c98 button.colab-df-convert');\n",
              "        buttonEl.style.display =\n",
              "          google.colab.kernel.accessAllowed ? 'block' : 'none';\n",
              "\n",
              "        async function convertToInteractive(key) {\n",
              "          const element = document.querySelector('#df-9a2b9348-e426-41f6-939e-58e683095c98');\n",
              "          const dataTable =\n",
              "            await google.colab.kernel.invokeFunction('convertToInteractive',\n",
              "                                                     [key], {});\n",
              "          if (!dataTable) return;\n",
              "\n",
              "          const docLinkHtml = 'Like what you see? Visit the ' +\n",
              "            '<a target=\"_blank\" href=https://colab.research.google.com/notebooks/data_table.ipynb>data table notebook</a>'\n",
              "            + ' to learn more about interactive tables.';\n",
              "          element.innerHTML = '';\n",
              "          dataTable['output_type'] = 'display_data';\n",
              "          await google.colab.output.renderOutput(dataTable, element);\n",
              "          const docLink = document.createElement('div');\n",
              "          docLink.innerHTML = docLinkHtml;\n",
              "          element.appendChild(docLink);\n",
              "        }\n",
              "      </script>\n",
              "    </div>\n",
              "  </div>\n",
              "  "
            ]
          },
          "metadata": {},
          "execution_count": 134
        }
      ]
    },
    {
      "cell_type": "markdown",
      "metadata": {
        "id": "E8hZzOSvymHL"
      },
      "source": [
        "# **2. Feature Learning for _Synthetically Generated Data_**"
      ]
    },
    {
      "cell_type": "markdown",
      "metadata": {
        "id": "5YpfhDVMymHM"
      },
      "source": [
        "## Problem 2.1"
      ]
    },
    {
      "cell_type": "markdown",
      "metadata": {
        "id": "1EQWwLbvymHN"
      },
      "source": [
        "### (a)"
      ]
    },
    {
      "cell_type": "code",
      "source": [
        "#np.random.seed(1) #This is for testing the code\n",
        "B = np.random.randn(3,2)"
      ],
      "metadata": {
        "id": "2Me2gtgRUxAi"
      },
      "execution_count": null,
      "outputs": []
    },
    {
      "cell_type": "markdown",
      "metadata": {
        "id": "T5HoKdioymHN"
      },
      "source": [
        "### (b)"
      ]
    },
    {
      "cell_type": "code",
      "execution_count": null,
      "metadata": {
        "id": "xUGIEmzYymHN",
        "colab": {
          "base_uri": "https://localhost:8080/"
        },
        "outputId": "81653f17-c6b6-4e1f-ee71-976bd299ec88"
      },
      "outputs": [
        {
          "output_type": "stream",
          "name": "stdout",
          "text": [
            "2\n"
          ]
        }
      ],
      "source": [
        "print(np.linalg.matrix_rank(B))"
      ]
    },
    {
      "cell_type": "markdown",
      "metadata": {
        "id": "TGHAoXfMymHO"
      },
      "source": [
        "### (c)\n",
        "\n"
      ]
    },
    {
      "cell_type": "code",
      "execution_count": null,
      "metadata": {
        "id": "ItDMYWoFymHO",
        "colab": {
          "base_uri": "https://localhost:8080/"
        },
        "outputId": "aa9a6e42-6b0c-46f6-c8af-d735e8bf6861"
      },
      "outputs": [
        {
          "output_type": "stream",
          "name": "stdout",
          "text": [
            "Norm of B1: 1.4215127500052371\n",
            "Norm of B2: 1.238285302305969\n",
            "Inner product: 0.3164040307122671\n"
          ]
        }
      ],
      "source": [
        "print(\"Norm of B1: {}\".format(np.linalg.norm(B[:,0])))\n",
        "print(\"Norm of B2: {}\".format(np.linalg.norm(B[:,1])))\n",
        "print(\"Inner product: {}\".format(np.dot(B[:,0], B[:,1])))"
      ]
    },
    {
      "cell_type": "markdown",
      "metadata": {
        "id": "7kNl2WpSymHO"
      },
      "source": [
        "### (d)"
      ]
    },
    {
      "cell_type": "code",
      "execution_count": null,
      "metadata": {
        "id": "AblNbsncymHO",
        "colab": {
          "base_uri": "https://localhost:8080/"
        },
        "outputId": "878f2d97-f4cd-4c6c-d62c-1addb6831400"
      },
      "outputs": [
        {
          "output_type": "stream",
          "name": "stdout",
          "text": [
            "point 1 : [ 2.73579709 -1.81029647  0.83417691]\n",
            "point 2 : [-0.50571426  1.52718338 -0.09549717]\n",
            "point 3 : [0.52516346 2.43181654 0.2969357 ]\n"
          ]
        }
      ],
      "source": [
        "print(\"point 1 : {}\".format(np.random.randn(1)*B[:,0]+np.random.randn(1)*B[:,1]))\n",
        "print(\"point 2 : {}\".format(np.random.randn(1)*B[:,0]+np.random.randn(1)*B[:,1]))\n",
        "print(\"point 3 : {}\".format(np.random.randn(1)*B[:,0]+np.random.randn(1)*B[:,1]))"
      ]
    },
    {
      "cell_type": "markdown",
      "metadata": {
        "id": "FpQWnOOpymHT"
      },
      "source": [
        "## Problem 2.2"
      ]
    },
    {
      "cell_type": "markdown",
      "source": [
        "### (a)"
      ],
      "metadata": {
        "id": "eo0-9wXTVIKh"
      }
    },
    {
      "cell_type": "code",
      "execution_count": null,
      "metadata": {
        "id": "QmAtpjMiymHU"
      },
      "outputs": [],
      "source": [
        "v = np.random.randn(2,200)\n",
        "x = np.matmul(B, v).T"
      ]
    },
    {
      "cell_type": "markdown",
      "source": [
        "### (b)"
      ],
      "metadata": {
        "id": "6nTycRr4V8GJ"
      }
    },
    {
      "cell_type": "markdown",
      "source": [
        "Yes, because each sample is composed of a linear combination of vectors in S. These vectors in S being B_1 and B_2."
      ],
      "metadata": {
        "id": "qs8F-Aw2V731"
      }
    },
    {
      "cell_type": "markdown",
      "source": [
        "### (c)"
      ],
      "metadata": {
        "id": "Pw5kjI4GWLsL"
      }
    },
    {
      "cell_type": "code",
      "source": [
        "X = x\n",
        "print(X.shape)"
      ],
      "metadata": {
        "id": "riHIp_QVWSh4",
        "colab": {
          "base_uri": "https://localhost:8080/"
        },
        "outputId": "02646040-9762-42a8-82de-36d0f0099995"
      },
      "execution_count": null,
      "outputs": [
        {
          "output_type": "stream",
          "name": "stdout",
          "text": [
            "(200, 3)\n"
          ]
        }
      ]
    },
    {
      "cell_type": "markdown",
      "source": [
        "n is the number of datasamples\n",
        "\n",
        "p is the number of features"
      ],
      "metadata": {
        "id": "zRXfaZTiWS9K"
      }
    },
    {
      "cell_type": "markdown",
      "source": [
        "### (d)"
      ],
      "metadata": {
        "id": "6ACrqDnpWkJu"
      }
    },
    {
      "cell_type": "code",
      "source": [
        "print(f'The rank of X is {np.linalg.matrix_rank(X)}')"
      ],
      "metadata": {
        "id": "GhlnUavVWkgc",
        "colab": {
          "base_uri": "https://localhost:8080/"
        },
        "outputId": "e65a53fd-c102-4b84-f1d5-9ad8ac0e5726"
      },
      "execution_count": null,
      "outputs": [
        {
          "output_type": "stream",
          "name": "stdout",
          "text": [
            "The rank of X is 2\n"
          ]
        }
      ]
    },
    {
      "cell_type": "markdown",
      "source": [
        "## Problem 2.3"
      ],
      "metadata": {
        "id": "6fqh4x4FymHV"
      }
    },
    {
      "cell_type": "markdown",
      "source": [
        "  ### (a)"
      ],
      "metadata": {
        "id": "4qpGIfbIWzp9"
      }
    },
    {
      "cell_type": "code",
      "source": [
        "U, S, V = np.linalg.svd(X)\n",
        "\n",
        "L, P = np.linalg.eig(np.matmul(X.T, X))\n",
        "\n",
        "idx = np.flip(np.argsort(L))\n",
        "L = L[idx]\n",
        "P = P[:,idx]\n",
        "\n",
        "\n",
        "print(\"Singular Vectors: \\n\" + str(V.T))#transposed so the singular\n",
        "                                        #vectors are the columns\n",
        "print(\"\")\n",
        "print(\"Eigenvectors: \\n\" + str(-1*P)) #*-1 because they are off by a factor of -1\n",
        "                                      #This is ok because multiplying by -1 would \n",
        "                                      #still result in eigenvectors that form X^TX\n",
        "\n",
        "print(\"\\nSingular Values:\")\n",
        "print(np.diag(S))\n",
        "print(\"\\nEigenvalues:\")\n",
        "print(np.diag(L))\n",
        "print(\"\\nSingular Values squares:\")\n",
        "print(np.matmul(np.diag(S),np.diag(S)))\n",
        "\n",
        "\n",
        "print(\"\\nEnergy:\")\n",
        "print(np.matmul(S,S))"
      ],
      "metadata": {
        "id": "PhjPz5leXHOr",
        "colab": {
          "base_uri": "https://localhost:8080/"
        },
        "outputId": "85ead7f1-911b-4aff-b707-994e8a1f8bec"
      },
      "execution_count": null,
      "outputs": [
        {
          "output_type": "stream",
          "name": "stdout",
          "text": [
            "Singular Vectors: \n",
            "[[ 0.75088063 -0.57805793  0.31941715]\n",
            " [-0.62171981 -0.78185293  0.04658822]\n",
            " [ 0.22280654 -0.23357016 -0.94646829]]\n",
            "\n",
            "Eigenvectors: \n",
            "[[ 0.75088063 -0.57805793  0.31941715]\n",
            " [-0.62171981 -0.78185293  0.04658822]\n",
            " [ 0.22280654 -0.23357016 -0.94646829]]\n",
            "\n",
            "Singular Values:\n",
            "[[2.20923543e+01 0.00000000e+00 0.00000000e+00]\n",
            " [0.00000000e+00 1.61610487e+01 0.00000000e+00]\n",
            " [0.00000000e+00 0.00000000e+00 1.21253251e-15]]\n",
            "\n",
            "Eigenvalues:\n",
            "[[ 4.88072119e+02  0.00000000e+00  0.00000000e+00]\n",
            " [ 0.00000000e+00  2.61179495e+02  0.00000000e+00]\n",
            " [ 0.00000000e+00  0.00000000e+00 -6.26253136e-14]]\n",
            "\n",
            "Singular Values squares:\n",
            "[[4.88072119e+02 0.00000000e+00 0.00000000e+00]\n",
            " [0.00000000e+00 2.61179495e+02 0.00000000e+00]\n",
            " [0.00000000e+00 0.00000000e+00 1.47023510e-30]]\n",
            "\n",
            "Energy:\n",
            "749.251614695275\n"
          ]
        }
      ]
    },
    {
      "cell_type": "markdown",
      "source": [
        "First, the eigenvalues need to be listed in decending order. This makes it easier to compare to the singular values. In addition, the eigenvectors are equal to the singularvectors * -1. This is ok because the eigenvectors can be multiplied by -1 to correct this. This will not change their function as eigenvectors and this can be easily proven:\n",
        "\n",
        "eig(X^TX) = PLP^-1\n",
        "In this case, P is orthonormal, so P^-1 = P^T\n",
        "-> PLP^T\n",
        "if the eigenvectors are multiplied by a negative, this is the same as\n",
        "(-1)PL(-1)P^T\n",
        "= PLP^T\n",
        "So, multipling by a negative does not change anything.\n",
        "\n",
        "When comparing the singular values squared and the eigenvalues, one can see that two of them are identical while the other is different. This is due to the rank of the matrix being 2. This means that both values should be zero, however due to rounding error in the computer, they are not."
      ],
      "metadata": {
        "id": "F5lqb1M0XISi"
      }
    },
    {
      "cell_type": "markdown",
      "source": [
        "### (b)"
      ],
      "metadata": {
        "id": "8iH_5uF8Xl3N"
      }
    },
    {
      "cell_type": "markdown",
      "source": [
        "i) This is most likely due to a precision error within the machine. Since floating numbers are stored in binary, it is not possible to store values with 100% precision. This means there is some error associate and this manifests itself as a very small singular value.\n",
        "\n",
        "ii) The right singular vectors of X correspond to an orthonormal basis for S.\n",
        "\n"
      ],
      "metadata": {
        "id": "lPAPKaXJXlj9"
      }
    },
    {
      "cell_type": "markdown",
      "metadata": {
        "id": "E98vhjP2ymHV"
      },
      "source": [
        "## Problem 2.4"
      ]
    },
    {
      "cell_type": "markdown",
      "source": [
        "### (a)"
      ],
      "metadata": {
        "id": "Tgq23AVKYeIu"
      }
    },
    {
      "cell_type": "markdown",
      "source": [
        "2 principal components should be enough to capture all the variation in the data. This is based purly off my understanding of the data. Each datasample was contructed with a different linear combination of the same 2 random vectors. This means that each datasample lies in a 2d subspace. 2 principal components should be enough to define this subspace."
      ],
      "metadata": {
        "id": "Qckm7_AUYfue"
      }
    },
    {
      "cell_type": "markdown",
      "source": [
        "### (b)"
      ],
      "metadata": {
        "id": "mFEe1Ja-Yszo"
      }
    },
    {
      "cell_type": "markdown",
      "source": [
        "x = B  * v\n",
        "E[x] = E[B*V]\n",
        "Given N(0,1) is a gaussian distirbution with mean 0 and variance 1, we know that \n",
        "\n",
        "B = \n",
        "\n",
        "N(0,1), N(0,1)\n",
        "\n",
        "N(0,1), N(0,1)\n",
        "\n",
        "N(0,1), N(0,1)\n",
        "\n",
        "\n",
        "V = \n",
        "\n",
        "N(0,1)\n",
        "\n",
        "N(0,1)\n",
        "\n",
        "So Bv = \n",
        "\n",
        "N(0,1) * N(0,1) + N(0,1) * N(0,1)\n",
        "\n",
        "N(0,1) * N(0,1) + N(0,1) * N(0,1)\n",
        "\n",
        "N(0,1) * N(0,1) + N(0,1) * N(0,1)\n",
        "\n",
        "\n",
        "And the expected value of \n",
        "\n",
        "N(0,1) * N(0,1) + N(0,1) * N(0,1)\n",
        "\n",
        "is\n",
        "\n",
        "\n",
        "E[N(0,1)] * E[N(0,1)] + E[N(0,1)] * E[N(0,1)]\n",
        "\n",
        "= 0 * 0 + 0 * 0\n",
        "\n",
        "= 0\n",
        "\n",
        "This is due to linearity of expectation, so\n",
        "\n",
        "E[Bv]\n",
        "\n",
        "=\n",
        "\n",
        "0\n",
        "\n",
        "0\n",
        "\n",
        "0\n",
        "\n",
        "= E[X]\n"
      ],
      "metadata": {
        "id": "CAx7wVutYso4"
      }
    },
    {
      "cell_type": "code",
      "source": [
        "print(f'Mean of x_1: {X[:,0].mean()}')\n",
        "print(f'Mean of x_2: {X[:,1].mean()}')\n",
        "print(f'Mean of x_3: {X[:,2].mean()}')"
      ],
      "metadata": {
        "id": "Kut6nt6JYt17",
        "colab": {
          "base_uri": "https://localhost:8080/"
        },
        "outputId": "b5523aae-dc8a-4a47-c113-88325816f1e0"
      },
      "execution_count": null,
      "outputs": [
        {
          "output_type": "stream",
          "name": "stdout",
          "text": [
            "Mean of x_1: -0.11137369319889416\n",
            "Mean of x_2: -0.04610210128610393\n",
            "Mean of x_3: -0.03985604434117548\n"
          ]
        }
      ]
    },
    {
      "cell_type": "markdown",
      "source": [
        "These values are small, however as the number of datasamples goes up, they would get even smaller. This is due to the law of large numbers."
      ],
      "metadata": {
        "id": "8OMAmDI0ZOhf"
      }
    },
    {
      "cell_type": "markdown",
      "source": [
        "### (c)"
      ],
      "metadata": {
        "id": "1a5MpUNAZT70"
      }
    },
    {
      "cell_type": "code",
      "source": [
        "u1 = V[0, :]\n",
        "u2 = V[1, :]\n",
        "\n",
        "print(f'u1 = {u1}')\n",
        "print(f'u2 = {u2}')"
      ],
      "metadata": {
        "id": "h__6c3KYZUUk",
        "colab": {
          "base_uri": "https://localhost:8080/"
        },
        "outputId": "da71216f-704d-413f-d0e6-f9855653d895"
      },
      "execution_count": null,
      "outputs": [
        {
          "output_type": "stream",
          "name": "stdout",
          "text": [
            "u1 = [ 0.75088063 -0.62171981  0.22280654]\n",
            "u2 = [-0.57805793 -0.78185293 -0.23357016]\n"
          ]
        }
      ]
    },
    {
      "cell_type": "markdown",
      "source": [
        "### (d)"
      ],
      "metadata": {
        "id": "OV7VlYGuZdwP"
      }
    },
    {
      "cell_type": "code",
      "source": [
        "U = np.array([u1, u2])\n",
        "\n",
        "Xf = np.matmul(U,X.T)"
      ],
      "metadata": {
        "id": "x_eo6FwIZeMa"
      },
      "execution_count": null,
      "outputs": []
    },
    {
      "cell_type": "markdown",
      "source": [
        "### (e)"
      ],
      "metadata": {
        "id": "tYGW89DfZkhD"
      }
    },
    {
      "cell_type": "code",
      "source": [
        "X_hat = np.matmul(U.T, Xf).T"
      ],
      "metadata": {
        "id": "2D_GjEgBZnAU"
      },
      "execution_count": null,
      "outputs": []
    },
    {
      "cell_type": "markdown",
      "source": [
        "### (f)"
      ],
      "metadata": {
        "id": "wcK_PAshZtQB"
      }
    },
    {
      "cell_type": "code",
      "source": [
        "error = X_hat-x\n",
        "\n",
        "print(f'Error: {np.sum(np.square(np.linalg.norm(error, axis = 1)))}')"
      ],
      "metadata": {
        "id": "KmImme9tZtyH",
        "colab": {
          "base_uri": "https://localhost:8080/"
        },
        "outputId": "e709e09e-f4d1-42a2-bbe5-b4daf3ea408e"
      },
      "execution_count": null,
      "outputs": [
        {
          "output_type": "stream",
          "name": "stdout",
          "text": [
            "Error: 7.685076568800269e-29\n"
          ]
        }
      ]
    },
    {
      "cell_type": "markdown",
      "source": [
        "### (g)"
      ],
      "metadata": {
        "id": "LeFns7FdZ08e"
      }
    },
    {
      "cell_type": "code",
      "source": [
        "Xf2 = np.matmul(u1,X.T)"
      ],
      "metadata": {
        "id": "S7tYk1SBZ19B"
      },
      "execution_count": null,
      "outputs": []
    },
    {
      "cell_type": "markdown",
      "source": [
        "### (h)"
      ],
      "metadata": {
        "id": "d4tM7vzxaAnL"
      }
    },
    {
      "cell_type": "code",
      "source": [
        "X_hat2 = np.outer(u1, Xf2).T"
      ],
      "metadata": {
        "id": "wxzLuA3saA6B"
      },
      "execution_count": null,
      "outputs": []
    },
    {
      "cell_type": "markdown",
      "source": [
        "### (i)"
      ],
      "metadata": {
        "id": "7Hz7DqtcaBPN"
      }
    },
    {
      "cell_type": "code",
      "source": [
        "error2 = X_hat2-x\n",
        "\n",
        "print(f'Error: {np.sum(np.square(np.linalg.norm(error2, axis = 1)))}')\n",
        "print(\"\")\n",
        "print(f'Singular value 2 squared: {S[1]**2}')"
      ],
      "metadata": {
        "id": "7AizSI1JaC7O",
        "colab": {
          "base_uri": "https://localhost:8080/"
        },
        "outputId": "77b93bbb-8aef-4e75-cc07-a9f707a50e3d"
      },
      "execution_count": null,
      "outputs": [
        {
          "output_type": "stream",
          "name": "stdout",
          "text": [
            "Error: 261.17949539636453\n",
            "\n",
            "Singular value 2 squared: 261.1794953963646\n"
          ]
        }
      ]
    },
    {
      "cell_type": "markdown",
      "source": [
        "### (j)"
      ],
      "metadata": {
        "id": "v6aRxM1faE_k"
      }
    },
    {
      "cell_type": "code",
      "source": [
        "fig = plt.figure()\n",
        "ax = fig.add_subplot(111, projection = '3d')\n",
        "plt.scatter(X[:,0], X[:,1], X[:,2])\n",
        "\n",
        "\n",
        "fig2 = plt.figure()\n",
        "ax2 = fig2.add_subplot(111, projection = '3d')\n",
        "plt.scatter(X_hat2[:,0], X_hat2[:,1], X_hat2[:,2])"
      ],
      "metadata": {
        "id": "inzkv3ORaFYo",
        "colab": {
          "base_uri": "https://localhost:8080/",
          "height": 496
        },
        "outputId": "dbc1dd68-f81e-4a67-e575-c862a05160ef"
      },
      "execution_count": null,
      "outputs": [
        {
          "output_type": "execute_result",
          "data": {
            "text/plain": [
              "<mpl_toolkits.mplot3d.art3d.Path3DCollection at 0x7f93f66f71d0>"
            ]
          },
          "metadata": {},
          "execution_count": 187
        },
        {
          "output_type": "display_data",
          "data": {
            "text/plain": [
              "<Figure size 432x288 with 1 Axes>"
            ],
            "image/png": "[encoded data removed]"
          },
          "metadata": {
            "needs_background": "light"
          }
        },
        {
          "output_type": "display_data",
          "data": {
            "text/plain": [
              "<Figure size 432x288 with 1 Axes>"
            ],
            "image/png": "[encoded data removed]"
          },
          "metadata": {
            "needs_background": "light"
          }
        }
      ]
    },
    {
      "cell_type": "markdown",
      "source": [
        "The bottom plot is a line because it was constructed using only u1. This means the subspace that the data is projected on is a 1 dimensional subspace. This is the line that is formed. \n"
      ],
      "metadata": {
        "id": "PLc7wJqsakVx"
      }
    }
  ],
  "metadata": {
    "kernelspec": {
      "display_name": "Python 3",
      "language": "python",
      "name": "python3"
    },
    "language_info": {
      "codemirror_mode": {
        "name": "ipython",
        "version": 3
      },
      "file_extension": ".py",
      "mimetype": "text/x-python",
      "name": "python",
      "nbconvert_exporter": "python",
      "pygments_lexer": "ipython3",
      "version": "3.7.9"
    },
    "colab": {
      "provenance": []
    }
  },
  "nbformat": 4,
  "nbformat_minor": 0
}
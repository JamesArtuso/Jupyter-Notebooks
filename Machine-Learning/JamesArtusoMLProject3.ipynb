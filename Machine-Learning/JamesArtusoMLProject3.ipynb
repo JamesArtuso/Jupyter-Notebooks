{
  "nbformat": 4,
  "nbformat_minor": 0,
  "metadata": {
    "kernelspec": {
      "display_name": "Python 3",
      "language": "python",
      "name": "python3"
    },
    "language_info": {
      "codemirror_mode": {
        "name": "ipython",
        "version": 3
      },
      "file_extension": ".py",
      "mimetype": "text/x-python",
      "name": "python",
      "nbconvert_exporter": "python",
      "pygments_lexer": "ipython3",
      "version": "3.7.9"
    },
    "colab": {
      "provenance": []
    }
  },
  "cells": [
    {
      "cell_type": "markdown",
      "source": [
        "# James Artuso\n",
        "# Programming Exercise \\#3\n",
        "---"
      ],
      "metadata": {
        "id": "DAO8AZsc266y"
      }
    },
    {
      "cell_type": "markdown",
      "source": [
        "# Preamble"
      ],
      "metadata": {
        "id": "rJOtXeNg38_u"
      }
    },
    {
      "cell_type": "code",
      "source": [
        "# import relevant Python libraries\n",
        "\n",
        "import numpy as np\n",
        "import pandas as pd\n",
        "from scipy import stats as sps\n",
        "from matplotlib import pyplot as plt\n",
        "from mpl_toolkits.mplot3d import Axes3D\n",
        "from IPython.display import display, Latex"
      ],
      "metadata": {
        "id": "rjUKWdVD_Eqh"
      },
      "execution_count": null,
      "outputs": []
    },
    {
      "cell_type": "markdown",
      "metadata": {
        "id": "RO2Ki83J2niP"
      },
      "source": [
        "# **1. Non-centered Data and Principal Component Analysis (PCA)**"
      ]
    },
    {
      "cell_type": "markdown",
      "metadata": {
        "id": "aikIRGtr2niQ"
      },
      "source": [
        "## 1.1"
      ]
    },
    {
      "cell_type": "code",
      "metadata": {
        "id": "Lfh4yXOk2niW"
      },
      "source": [
        "A = np.random.randn(3,2)\n",
        "c = np.sqrt(3) * np.random.randn(3,1)"
      ],
      "execution_count": null,
      "outputs": []
    },
    {
      "cell_type": "markdown",
      "metadata": {
        "id": "Z0L4G8C-2nid"
      },
      "source": [
        "## 1.2"
      ]
    },
    {
      "cell_type": "code",
      "metadata": {
        "id": "K5oAuY1E2nie"
      },
      "source": [
        "b = np.random.randn(2,250)\n",
        "x = (np.matmul(A,b) + c).T"
      ],
      "execution_count": null,
      "outputs": []
    },
    {
      "cell_type": "markdown",
      "metadata": {
        "id": "bx9KXie42nik"
      },
      "source": [
        "## 1.3"
      ]
    },
    {
      "cell_type": "code",
      "metadata": {
        "id": "4uhYkSmY2nil",
        "colab": {
          "base_uri": "https://localhost:8080/"
        },
        "outputId": "11026cf1-5102-48dc-8546-acfb74267c86"
      },
      "source": [
        "print(f'Rank: {np.linalg.matrix_rank(x)}')"
      ],
      "execution_count": null,
      "outputs": [
        {
          "output_type": "stream",
          "name": "stdout",
          "text": [
            "Rank: 3\n"
          ]
        }
      ]
    },
    {
      "cell_type": "markdown",
      "metadata": {
        "id": "BoUIuPe62nir"
      },
      "source": [
        "## 1.4"
      ]
    },
    {
      "cell_type": "markdown",
      "metadata": {
        "id": "rvrjy0LR2nit"
      },
      "source": [
        "If c is a linear combination of the columns of A, then it will not move the data such that it is no longered centered around the origin. So, any two linear combinations of the columns of A will work. In the code below, I have choosen the three times the first column of A and -1 times the second column of A as example values of c."
      ]
    },
    {
      "cell_type": "code",
      "source": [
        "x_test1 = (np.matmul(A,b) + 3*np.reshape(A[0:3,0], [3,1])).T\n",
        "x_test2 = (np.matmul(A,b) - np.reshape(A[0:3,1], [3,1])).T\n",
        "#The rank of both should be two if the data is still centered.\n",
        "print(f'Rank of first test: {np.linalg.matrix_rank(x_test1)}')\n",
        "print(f'Rank of second test: {np.linalg.matrix_rank(x_test2)}')"
      ],
      "metadata": {
        "colab": {
          "base_uri": "https://localhost:8080/"
        },
        "id": "4_OmX5iK-hwk",
        "outputId": "cc62ce4d-16b8-4c69-84f9-2a91516db527"
      },
      "execution_count": null,
      "outputs": [
        {
          "output_type": "stream",
          "name": "stdout",
          "text": [
            "Rank of first test: 2\n",
            "Rank of second test: 2\n"
          ]
        }
      ]
    },
    {
      "cell_type": "markdown",
      "metadata": {
        "id": "vsxCNaMf2niu"
      },
      "source": [
        "## 1.5"
      ]
    },
    {
      "cell_type": "markdown",
      "metadata": {
        "id": "J6Q4Oz8M2niv"
      },
      "source": [
        "### (a)"
      ]
    },
    {
      "cell_type": "code",
      "metadata": {
        "id": "YRmWdR5-2niw"
      },
      "source": [
        "_,_,V = np.linalg.svd(x)\n",
        "U = V[[0,1],:].T"
      ],
      "execution_count": null,
      "outputs": []
    },
    {
      "cell_type": "markdown",
      "metadata": {
        "id": "nG1SNKdB2ni2"
      },
      "source": [
        "### (b)"
      ]
    },
    {
      "cell_type": "code",
      "metadata": {
        "id": "H2HLmmEI2ni3"
      },
      "source": [
        "x_hat = np.matmul(U,np.matmul(U.T,x.T)).T"
      ],
      "execution_count": null,
      "outputs": []
    },
    {
      "cell_type": "code",
      "source": [
        "def findMSE(x, x_hat):\n",
        "  error = x-x_hat\n",
        "  return np.sum(np.square(np.linalg.norm(error, axis = 1)))"
      ],
      "metadata": {
        "id": "BUW_6sSB1BYu"
      },
      "execution_count": null,
      "outputs": []
    },
    {
      "cell_type": "markdown",
      "metadata": {
        "id": "l1kONbKq2ni_"
      },
      "source": [
        "### (c)"
      ]
    },
    {
      "cell_type": "code",
      "metadata": {
        "id": "QPDry3E42njA",
        "colab": {
          "base_uri": "https://localhost:8080/"
        },
        "outputId": "fa1e991e-1eca-42ca-d661-49094f5f31d1"
      },
      "source": [
        "print(f'Error: {findMSE(x,x_hat)}')"
      ],
      "execution_count": null,
      "outputs": [
        {
          "output_type": "stream",
          "name": "stdout",
          "text": [
            "Error: 138.47320031544712\n"
          ]
        }
      ]
    },
    {
      "cell_type": "markdown",
      "metadata": {
        "id": "s__yrlj22njG"
      },
      "source": [
        "## 1.6"
      ]
    },
    {
      "cell_type": "code",
      "metadata": {
        "id": "ifUebBkn2njH",
        "colab": {
          "base_uri": "https://localhost:8080/"
        },
        "outputId": "c223a4f7-086c-4e10-aa4f-b85c995d760d"
      },
      "source": [
        "mu = np.mean(x, axis = 0)\n",
        "x_cent = x-mu\n",
        "_,_,V_cent = np.linalg.svd(x_cent)\n",
        "U_cent = V_cent[[0,1],:].T\n",
        "x_hat_cent = np.matmul(U_cent, np.matmul(U_cent.T, x_cent.T)).T + mu\n",
        "\n",
        "print(f'Error: {findMSE(x,x_hat_cent)}')"
      ],
      "execution_count": null,
      "outputs": [
        {
          "output_type": "stream",
          "name": "stdout",
          "text": [
            "Error: 8.819526550129132e-29\n"
          ]
        }
      ]
    },
    {
      "cell_type": "markdown",
      "metadata": {
        "id": "1B64Dam_2njM"
      },
      "source": [
        "# **2. Preprocessing (Centering) and PCA Using `scikit learn`**"
      ]
    },
    {
      "cell_type": "markdown",
      "metadata": {
        "id": "g4Erb1pA2njN"
      },
      "source": [
        "## 2.1"
      ]
    },
    {
      "cell_type": "code",
      "metadata": {
        "id": "sV3E9aWS2njO"
      },
      "source": [
        "from sklearn import preprocessing as sklpp\n",
        "from sklearn import decomposition as skldecomp"
      ],
      "execution_count": null,
      "outputs": []
    },
    {
      "cell_type": "markdown",
      "metadata": {
        "id": "YRfUYPOb2njU"
      },
      "source": [
        "## 2.2"
      ]
    },
    {
      "cell_type": "code",
      "metadata": {
        "id": "kIPLtSr42njV",
        "colab": {
          "base_uri": "https://localhost:8080/"
        },
        "outputId": "907cfc7f-57ba-4370-a74c-24e6c3c26d6e"
      },
      "source": [
        "mean_datascalar = sklpp.StandardScaler(with_mean=True, with_std=False)\n",
        "skl_centered_x = mean_datascalar.fit_transform(x)\n",
        "print(f'Mean vector from 1.6: {mu}')\n",
        "print(f'Mean vector from scikit: {mean_datascalar.mean_}')"
      ],
      "execution_count": null,
      "outputs": [
        {
          "output_type": "stream",
          "name": "stdout",
          "text": [
            "Mean vector from 1.6: [-2.88261719  1.02447826  0.89414214]\n",
            "Mean vector from scikit: [-2.88261719  1.02447826  0.89414214]\n"
          ]
        }
      ]
    },
    {
      "cell_type": "markdown",
      "metadata": {
        "id": "IGiCMhZq2nja"
      },
      "source": [
        "## 2.3"
      ]
    },
    {
      "cell_type": "code",
      "metadata": {
        "id": "RlYPjB2d2njb",
        "colab": {
          "base_uri": "https://localhost:8080/"
        },
        "outputId": "a342021d-0a58-4508-8321-3e7f14440b09"
      },
      "source": [
        "print(f'X vs X_skl: {findMSE(x_cent, skl_centered_x)}')"
      ],
      "execution_count": null,
      "outputs": [
        {
          "output_type": "stream",
          "name": "stdout",
          "text": [
            "X vs X_skl: 0.0\n"
          ]
        }
      ]
    },
    {
      "cell_type": "markdown",
      "metadata": {
        "id": "Igvz0Dgi2njg"
      },
      "source": [
        "## 2.4"
      ]
    },
    {
      "cell_type": "code",
      "metadata": {
        "id": "J09w_97V2njh"
      },
      "source": [
        "data_pca = skldecomp.PCA(n_components=2, svd_solver='full')\n",
        "skl_features = data_pca.fit_transform(skl_centered_x)"
      ],
      "execution_count": null,
      "outputs": []
    },
    {
      "cell_type": "markdown",
      "metadata": {
        "id": "_5-vsu242njl"
      },
      "source": [
        "## 2.5"
      ]
    },
    {
      "cell_type": "code",
      "metadata": {
        "id": "S9ToKqSC2njm",
        "colab": {
          "base_uri": "https://localhost:8080/"
        },
        "outputId": "f9d1468b-d5e4-40fc-bdc7-095e7ed43fe3"
      },
      "source": [
        "print(U_cent.T)\n",
        "print(data_pca.components_)\n",
        "#The vectors may be off by a multiple of -1. This is fine since they \n",
        "#are the same vector just in opposite directions."
      ],
      "execution_count": null,
      "outputs": [
        {
          "output_type": "stream",
          "name": "stdout",
          "text": [
            "[[ 0.43676665  0.79241924  0.42580118]\n",
            " [ 0.4301428   0.23174942 -0.87250752]]\n",
            "[[ 0.43676665  0.79241924  0.42580118]\n",
            " [-0.4301428  -0.23174942  0.87250752]]\n"
          ]
        }
      ]
    },
    {
      "cell_type": "markdown",
      "metadata": {
        "id": "ZZxfhD2n2njq"
      },
      "source": [
        "## 2.6"
      ]
    },
    {
      "cell_type": "code",
      "metadata": {
        "id": "XyAVb2Rm2njr"
      },
      "source": [
        "skl_cent = data_pca.inverse_transform(skl_features) + mean_datascalar.mean_"
      ],
      "execution_count": null,
      "outputs": []
    },
    {
      "cell_type": "markdown",
      "metadata": {
        "id": "u2LuReKq2nju"
      },
      "source": [
        "## 2.7"
      ]
    },
    {
      "cell_type": "code",
      "metadata": {
        "id": "TBI9wR2m2njv",
        "colab": {
          "base_uri": "https://localhost:8080/"
        },
        "outputId": "0fa721ac-d731-43dd-b029-5a636f8b873f"
      },
      "source": [
        "print(f'X vs skl_X_cent: {findMSE(x_hat_cent, skl_cent)}')"
      ],
      "execution_count": null,
      "outputs": [
        {
          "output_type": "stream",
          "name": "stdout",
          "text": [
            "X vs skl_X_cent: 2.8701594700818547e-28\n"
          ]
        }
      ]
    },
    {
      "cell_type": "markdown",
      "source": [
        "# **3. PCA on a Real-world Dataset**"
      ],
      "metadata": {
        "id": "L14EyEh7UVbm"
      }
    },
    {
      "cell_type": "code",
      "source": [
        "from sklearn.datasets import load_digits\n",
        "X, _ = load_digits(n_class = 1, return_X_y=True)"
      ],
      "metadata": {
        "id": "7No3qTvxUuSo"
      },
      "execution_count": null,
      "outputs": []
    },
    {
      "cell_type": "markdown",
      "source": [
        "## 3.1"
      ],
      "metadata": {
        "id": "Fdlp4NmpUh0E"
      }
    },
    {
      "cell_type": "markdown",
      "source": [
        "The number of samples is 178 and the number of features is 64. This is because the dataset is 178 x 64. The 64 is the 8x8 image flattened."
      ],
      "metadata": {
        "id": "clkf__1PVK3T"
      }
    },
    {
      "cell_type": "code",
      "source": [
        "def grayImage(index, data):\n",
        "  img = np.zeros([8,8])\n",
        "  for i in range(8):\n",
        "    img[i,:] = data[index, (i*8):(i*8+8)]\n",
        "  plt.gray()\n",
        "  plt.matshow(img)"
      ],
      "metadata": {
        "id": "yHvXhZ3HaEwH"
      },
      "execution_count": null,
      "outputs": []
    },
    {
      "cell_type": "code",
      "source": [
        "grayImage(0,X)"
      ],
      "metadata": {
        "id": "OfpTjts7VLor",
        "colab": {
          "base_uri": "https://localhost:8080/",
          "height": 292
        },
        "outputId": "0ccd4255-bb65-45e3-b906-79a075724855"
      },
      "execution_count": null,
      "outputs": [
        {
          "output_type": "display_data",
          "data": {
            "text/plain": [
              "<Figure size 432x288 with 0 Axes>"
            ]
          },
          "metadata": {}
        },
        {
          "output_type": "display_data",
          "data": {
            "text/plain": [
              "<Figure size 288x288 with 1 Axes>"
            ],
            "image/png": "[encoded data removed]"
          },
          "metadata": {
            "needs_background": "light"
          }
        }
      ]
    },
    {
      "cell_type": "markdown",
      "source": [
        "## 3.2"
      ],
      "metadata": {
        "id": "FL0LSn1AVEGA"
      }
    },
    {
      "cell_type": "code",
      "source": [
        "X_mu = np.mean(X, axis = 0)\n",
        "print(X_mu.shape)\n",
        "grayImage(0,np.array([X_mu]))"
      ],
      "metadata": {
        "id": "Em95ZPPLVX5p",
        "colab": {
          "base_uri": "https://localhost:8080/",
          "height": 310
        },
        "outputId": "6c1748e5-6d01-47ad-cbaa-bfb574510798"
      },
      "execution_count": null,
      "outputs": [
        {
          "output_type": "stream",
          "name": "stdout",
          "text": [
            "(64,)\n"
          ]
        },
        {
          "output_type": "display_data",
          "data": {
            "text/plain": [
              "<Figure size 432x288 with 0 Axes>"
            ]
          },
          "metadata": {}
        },
        {
          "output_type": "display_data",
          "data": {
            "text/plain": [
              "<Figure size 288x288 with 1 Axes>"
            ],
            "image/png": "[encoded data removed]"
          },
          "metadata": {
            "needs_background": "light"
          }
        }
      ]
    },
    {
      "cell_type": "markdown",
      "source": [
        "## 3.3"
      ],
      "metadata": {
        "id": "suU7yWSEUhrv"
      }
    },
    {
      "cell_type": "code",
      "source": [
        "X_cent = X-X_mu\n",
        "_,S,V = np.linalg.svd(X_cent)"
      ],
      "metadata": {
        "id": "pZ5B71QhVdy4"
      },
      "execution_count": null,
      "outputs": []
    },
    {
      "cell_type": "markdown",
      "source": [
        "## 3.4"
      ],
      "metadata": {
        "id": "R2MwdEnSUhj2"
      }
    },
    {
      "cell_type": "code",
      "source": [
        "fig = plt.figure(figsize = [15,15])\n",
        "plt.yscale('log')\n",
        "plt.stem(S)"
      ],
      "metadata": {
        "id": "_zZoIw31VkII",
        "colab": {
          "base_uri": "https://localhost:8080/",
          "height": 886
        },
        "outputId": "6c8a19ef-07c4-4e76-a386-59921df8dc48"
      },
      "execution_count": null,
      "outputs": [
        {
          "output_type": "stream",
          "name": "stderr",
          "text": [
            "/usr/local/lib/python3.7/dist-packages/ipykernel_launcher.py:3: UserWarning: In Matplotlib 3.3 individual lines on a stem plot will be added as a LineCollection instead of individual lines. This significantly improves the performance of a stem plot. To remove this warning and switch to the new behaviour, set the \"use_line_collection\" keyword argument to True.\n",
            "  This is separate from the ipykernel package so we can avoid doing imports until\n"
          ]
        },
        {
          "output_type": "execute_result",
          "data": {
            "text/plain": [
              "<StemContainer object of 3 artists>"
            ]
          },
          "metadata": {},
          "execution_count": 64
        },
        {
          "output_type": "display_data",
          "data": {
            "text/plain": [
              "<Figure size 1080x1080 with 1 Axes>"
            ],
            "image/png": "[encoded data removed]"
          },
          "metadata": {
            "needs_background": "light"
          }
        }
      ]
    },
    {
      "cell_type": "markdown",
      "source": [
        "## 3.5"
      ],
      "metadata": {
        "id": "ndse6DpaUhcz"
      }
    },
    {
      "cell_type": "code",
      "source": [
        "def findEnergy(sig, max_val, start_val = 0):\n",
        "  useSig = sig[start_val:max_val]\n",
        "  return sum(np.square(useSig))"
      ],
      "metadata": {
        "id": "0BvH2da4VnRD"
      },
      "execution_count": null,
      "outputs": []
    },
    {
      "cell_type": "code",
      "source": [
        "k = 0\n",
        "minnp = min(X.shape)\n",
        "maxcaptured = findEnergy(S, minnp)\n",
        "for i in range(minnp):\n",
        "  if((findEnergy(S, i)/maxcaptured) >= 0.90):\n",
        "    k = i\n",
        "    break\n",
        "print(f'Number of principle components needed: {k}')\n",
        "print(f'Percent of energy captured by 17 components: {findEnergy(S, k-1)/maxcaptured}')\n",
        "print(f'Percent of energy captured by 18 components: {findEnergy(S, k)/maxcaptured}')"
      ],
      "metadata": {
        "colab": {
          "base_uri": "https://localhost:8080/"
        },
        "id": "5Rev6KDtYftS",
        "outputId": "4c89d34c-68f6-4eb8-bd9c-10c1a962df3b"
      },
      "execution_count": null,
      "outputs": [
        {
          "output_type": "stream",
          "name": "stdout",
          "text": [
            "Number of principle components needed: 18\n",
            "Percent of energy captured by 17 components: 0.8952509003043135\n",
            "Percent of energy captured by 18 components: 0.9053591196887667\n"
          ]
        }
      ]
    },
    {
      "cell_type": "markdown",
      "source": [
        "## 3.6"
      ],
      "metadata": {
        "id": "LU-D7nvOUhVO"
      }
    },
    {
      "cell_type": "code",
      "source": [
        "real_data = skldecomp.PCA(n_components = 0.90, svd_solver = 'full')\n",
        "data_features = real_data.fit_transform(X)\n",
        "print(f'Number of principle components needed: {real_data.n_components_}')\n",
        "print(f'Verify 3.5 matches 3.6: k ==  n_components_ -> {k == real_data.n_components_}')"
      ],
      "metadata": {
        "id": "KXEu7oHTVvtH",
        "colab": {
          "base_uri": "https://localhost:8080/"
        },
        "outputId": "64879ea0-db8f-4741-fdb3-c6e1740437b0"
      },
      "execution_count": null,
      "outputs": [
        {
          "output_type": "stream",
          "name": "stdout",
          "text": [
            "Number of principle components needed: 18\n",
            "Verify 3.5 matches 3.6: k ==  n_components_ -> True\n"
          ]
        }
      ]
    },
    {
      "cell_type": "markdown",
      "source": [
        "## 3.7"
      ],
      "metadata": {
        "id": "jfnkwWxpUhNq"
      }
    },
    {
      "cell_type": "code",
      "source": [
        "print(V.shape)\n",
        "grayImage(0, V)\n",
        "grayImage(1, V)\n",
        "grayImage(2, V)"
      ],
      "metadata": {
        "id": "0BqpENx5VzdT",
        "colab": {
          "base_uri": "https://localhost:8080/",
          "height": 826
        },
        "outputId": "78e11a9e-ba81-42f7-d74e-78a8521dd4a2"
      },
      "execution_count": null,
      "outputs": [
        {
          "output_type": "stream",
          "name": "stdout",
          "text": [
            "(64, 64)\n"
          ]
        },
        {
          "output_type": "display_data",
          "data": {
            "text/plain": [
              "<Figure size 432x288 with 0 Axes>"
            ]
          },
          "metadata": {}
        },
        {
          "output_type": "display_data",
          "data": {
            "text/plain": [
              "<Figure size 288x288 with 1 Axes>"
            ],
            "image/png": "[encoded data removed]"
          },
          "metadata": {
            "needs_background": "light"
          }
        },
        {
          "output_type": "display_data",
          "data": {
            "text/plain": [
              "<Figure size 288x288 with 1 Axes>"
            ],
            "image/png": "[encoded data removed]"
          },
          "metadata": {
            "needs_background": "light"
          }
        },
        {
          "output_type": "display_data",
          "data": {
            "text/plain": [
              "<Figure size 288x288 with 1 Axes>"
            ],
            "image/png": "[encoded data removed]"
          },
          "metadata": {
            "needs_background": "light"
          }
        }
      ]
    },
    {
      "cell_type": "markdown",
      "source": [
        "## 3.8"
      ],
      "metadata": {
        "id": "NHFoSDosUhGl"
      }
    },
    {
      "cell_type": "code",
      "source": [
        "A = V[0:3, :]\n",
        "X_cent_f = np.matmul(A, X_cent.T).T"
      ],
      "metadata": {
        "id": "64G_WIrJV41d"
      },
      "execution_count": null,
      "outputs": []
    },
    {
      "cell_type": "markdown",
      "source": [
        "## 3.9"
      ],
      "metadata": {
        "id": "ocVSrvXdUg-7"
      }
    },
    {
      "cell_type": "code",
      "source": [
        "fig = plt.figure()\n",
        "ax = fig.add_subplot(111, projection = '3d')\n",
        "plt.scatter(X_cent_f[:,0], X_cent_f[:,1], X_cent_f[:,2])"
      ],
      "metadata": {
        "id": "XXUNU_D0V7X2",
        "colab": {
          "base_uri": "https://localhost:8080/",
          "height": 320
        },
        "outputId": "507eec8f-d810-4371-ed88-9bcb5fe9d991"
      },
      "execution_count": null,
      "outputs": [
        {
          "output_type": "stream",
          "name": "stderr",
          "text": [
            "/usr/local/lib/python3.7/dist-packages/matplotlib/collections.py:885: RuntimeWarning: invalid value encountered in sqrt\n",
            "  scale = np.sqrt(self._sizes) * dpi / 72.0 * self._factor\n"
          ]
        },
        {
          "output_type": "execute_result",
          "data": {
            "text/plain": [
              "<mpl_toolkits.mplot3d.art3d.Path3DCollection at 0x7f1c6665d910>"
            ]
          },
          "metadata": {},
          "execution_count": 79
        },
        {
          "output_type": "display_data",
          "data": {
            "text/plain": [
              "<Figure size 432x288 with 1 Axes>"
            ],
            "image/png": "[encoded data removed]"
          },
          "metadata": {
            "needs_background": "light"
          }
        }
      ]
    },
    {
      "cell_type": "markdown",
      "source": [
        "## 3.10"
      ],
      "metadata": {
        "id": "OGvcGkXlUg2c"
      }
    },
    {
      "cell_type": "code",
      "source": [
        "X_cent_hat = np.matmul(A.T, X_cent_f.T)\n",
        "X_hat = X_cent_hat.T + X_mu"
      ],
      "metadata": {
        "id": "hlG4iC0IV-2K"
      },
      "execution_count": null,
      "outputs": []
    },
    {
      "cell_type": "markdown",
      "source": [
        "## 3.11"
      ],
      "metadata": {
        "id": "TgS0bvIlUgpo"
      }
    },
    {
      "cell_type": "code",
      "source": [
        "#Using scikit learn to verify\n",
        "mean_datascalar = sklpp.StandardScaler(with_mean=True, with_std=False)\n",
        "skl_centered_x = mean_datascalar.fit_transform(X)\n",
        "data_pca = skldecomp.PCA(n_components=3, svd_solver='full')\n",
        "skl_features = data_pca.fit_transform(skl_centered_x)\n",
        "skl_cent = data_pca.inverse_transform(skl_features) + mean_datascalar.mean_\n",
        "\n",
        "print(f'Average PCA error: {findMSE(X, X_hat)/178}')\n",
        "print(f'Average PCA error using scikit learn: {findMSE(X,skl_cent)/178}')\n",
        "print(f'Average PCA error from Singular Values: {findEnergy(S,minnp, start_val = 3)/178}')"
      ],
      "metadata": {
        "id": "-tdTk35RWDP7",
        "colab": {
          "base_uri": "https://localhost:8080/"
        },
        "outputId": "33f93528-0a23-40f4-e7f0-90920e50435e"
      },
      "execution_count": null,
      "outputs": [
        {
          "output_type": "stream",
          "name": "stdout",
          "text": [
            "Average PCA error: 202.52814947043325\n",
            "Average PCA error using scikit learn: 202.52814947043325\n",
            "Average PCA error from Singular Values: 202.5281494704331\n"
          ]
        }
      ]
    },
    {
      "cell_type": "markdown",
      "source": [
        "## 3.12"
      ],
      "metadata": {
        "id": "cg9Wo8QyUgO5"
      }
    },
    {
      "cell_type": "code",
      "source": [
        "grayImage(0, X_hat)"
      ],
      "metadata": {
        "id": "-dvcgqXrWH3w",
        "colab": {
          "base_uri": "https://localhost:8080/",
          "height": 292
        },
        "outputId": "6dd5a36b-424d-40ef-e17f-0760eaa989b2"
      },
      "execution_count": null,
      "outputs": [
        {
          "output_type": "display_data",
          "data": {
            "text/plain": [
              "<Figure size 432x288 with 0 Axes>"
            ]
          },
          "metadata": {}
        },
        {
          "output_type": "display_data",
          "data": {
            "text/plain": [
              "<Figure size 288x288 with 1 Axes>"
            ],
            "image/png": "[encoded data removed]"
          },
          "metadata": {
            "needs_background": "light"
          }
        }
      ]
    },
    {
      "cell_type": "markdown",
      "metadata": {
        "id": "KZzWBJSQ2njz"
      },
      "source": [
        "# **4. PCA as a Denoising Tool**"
      ]
    },
    {
      "cell_type": "markdown",
      "metadata": {
        "id": "7Zc9CUp02njz"
      },
      "source": [
        "## 4.1"
      ]
    },
    {
      "cell_type": "code",
      "metadata": {
        "id": "dQL_dqav2nj3"
      },
      "source": [
        "a = np.random.randn(3,1)"
      ],
      "execution_count": null,
      "outputs": []
    },
    {
      "cell_type": "markdown",
      "metadata": {
        "id": "Eh0exYZd2nj7"
      },
      "source": [
        "## 4.2"
      ]
    },
    {
      "cell_type": "code",
      "metadata": {
        "id": "snKbdp7d2nj8"
      },
      "source": [
        "b = np.random.randn(100,1)*2\n",
        "X = np.matmul(b, a.T)"
      ],
      "execution_count": null,
      "outputs": []
    },
    {
      "cell_type": "markdown",
      "metadata": {
        "id": "kgzCrcfy2nkB"
      },
      "source": [
        "## 4.3"
      ]
    },
    {
      "cell_type": "code",
      "metadata": {
        "id": "jx5SsNim2nkC",
        "colab": {
          "base_uri": "https://localhost:8080/"
        },
        "outputId": "f7f0ded5-7710-4b3a-ce24-2673af6967a0"
      },
      "source": [
        "n = np.random.randn(100, 3) * np.sqrt(0.05)\n",
        "y = X + n"
      ],
      "execution_count": null,
      "outputs": [
        {
          "output_type": "stream",
          "name": "stdout",
          "text": [
            "(100, 3)\n"
          ]
        }
      ]
    },
    {
      "cell_type": "markdown",
      "metadata": {
        "id": "LP-z7h6M2nkH"
      },
      "source": [
        "## 4.4"
      ]
    },
    {
      "cell_type": "code",
      "metadata": {
        "id": "Mzu0PSrc2nkI",
        "colab": {
          "base_uri": "https://localhost:8080/",
          "height": 320
        },
        "outputId": "9e6adcf3-aa7a-4fd1-817a-ac5d4d37868f"
      },
      "source": [
        "fig = plt.figure()\n",
        "ax = fig.add_subplot(111, projection = '3d')\n",
        "plt.scatter(X[:,0], X[:,1], X[:,2])\n",
        "plt.scatter(y[:, 0], y[:,1], y[:,2])"
      ],
      "execution_count": null,
      "outputs": [
        {
          "output_type": "stream",
          "name": "stderr",
          "text": [
            "/usr/local/lib/python3.7/dist-packages/matplotlib/collections.py:885: RuntimeWarning: invalid value encountered in sqrt\n",
            "  scale = np.sqrt(self._sizes) * dpi / 72.0 * self._factor\n"
          ]
        },
        {
          "output_type": "execute_result",
          "data": {
            "text/plain": [
              "<mpl_toolkits.mplot3d.art3d.Path3DCollection at 0x7f1c6600ce50>"
            ]
          },
          "metadata": {},
          "execution_count": 90
        },
        {
          "output_type": "display_data",
          "data": {
            "text/plain": [
              "<Figure size 432x288 with 1 Axes>"
            ],
            "image/png": "[encoded data removed]"
          },
          "metadata": {
            "needs_background": "light"
          }
        }
      ]
    },
    {
      "cell_type": "markdown",
      "metadata": {
        "id": "cZgDlwVr2nkM"
      },
      "source": [
        "## 4.5"
      ]
    },
    {
      "cell_type": "code",
      "metadata": {
        "id": "mqYu9pZH2nkN"
      },
      "source": [
        "denoise_pca = skldecomp.PCA(n_components = 1, svd_solver = 'full')\n",
        "denoise_features = denoise_pca.fit_transform(y)\n",
        "X_denoise_hat = denoise_pca.inverse_transform(denoise_features)"
      ],
      "execution_count": null,
      "outputs": []
    },
    {
      "cell_type": "markdown",
      "metadata": {
        "id": "osx6PPwe2nkT"
      },
      "source": [
        "## 4.6"
      ]
    },
    {
      "cell_type": "code",
      "metadata": {
        "id": "jFwHyJAR2nkU",
        "colab": {
          "base_uri": "https://localhost:8080/",
          "height": 320
        },
        "outputId": "fcffdd97-c72e-4c55-bfb9-79d44f895583"
      },
      "source": [
        "fig = plt.figure()\n",
        "ax = fig.add_subplot(111, projection = '3d')\n",
        "plt.scatter(X[:,0], X[:,1], X[:,2])\n",
        "plt.scatter(X_denoise_hat[:, 0], X_denoise_hat[:,1], X_denoise_hat[:,2])"
      ],
      "execution_count": null,
      "outputs": [
        {
          "output_type": "stream",
          "name": "stderr",
          "text": [
            "/usr/local/lib/python3.7/dist-packages/matplotlib/collections.py:885: RuntimeWarning: invalid value encountered in sqrt\n",
            "  scale = np.sqrt(self._sizes) * dpi / 72.0 * self._factor\n"
          ]
        },
        {
          "output_type": "execute_result",
          "data": {
            "text/plain": [
              "<mpl_toolkits.mplot3d.art3d.Path3DCollection at 0x7f1c65d9a9d0>"
            ]
          },
          "metadata": {},
          "execution_count": 92
        },
        {
          "output_type": "display_data",
          "data": {
            "text/plain": [
              "<Figure size 432x288 with 1 Axes>"
            ],
            "image/png": "[encoded data removed]"
          },
          "metadata": {
            "needs_background": "light"
          }
        }
      ]
    },
    {
      "cell_type": "markdown",
      "metadata": {
        "id": "1BD7hfzc2nkb"
      },
      "source": [
        "## 4.7"
      ]
    },
    {
      "cell_type": "code",
      "metadata": {
        "id": "kAl8fxcL2nkc",
        "colab": {
          "base_uri": "https://localhost:8080/"
        },
        "outputId": "449a8f05-e522-4f3e-b7d8-116a8f2b97d9"
      },
      "source": [
        "print(f'Average error per noisy sample: {findMSE(X, y)/100}')\n",
        "print(f'Average error per denoised sample: {findMSE(X, X_denoise_hat)/100}')"
      ],
      "execution_count": null,
      "outputs": [
        {
          "output_type": "stream",
          "name": "stdout",
          "text": [
            "Average error per noisy sample: 0.14416922887209663\n",
            "Average error per denoised sample: 0.05432440297792632\n"
          ]
        }
      ]
    },
    {
      "cell_type": "markdown",
      "metadata": {
        "id": "gqq4nR-S2nkh"
      },
      "source": [
        "## 4.8"
      ]
    },
    {
      "cell_type": "markdown",
      "metadata": {
        "id": "jf3Y580D2nki"
      },
      "source": [
        "Because PCA essentially maps data to a subspace, the variations caused by noise will be removed. This is because the data woud normally fall along a subspace, however noise makes it diverge from that subspace. By doing PCA, the noise is essentially removed.\n"
      ]
    }
  ]
}
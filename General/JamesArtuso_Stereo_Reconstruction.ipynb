{
  "nbformat": 4,
  "nbformat_minor": 0,
  "metadata": {
    "colab": {
      "provenance": []
    },
    "kernelspec": {
      "name": "python3",
      "display_name": "Python 3"
    },
    "language_info": {
      "name": "python"
    }
  },
  "cells": [
    {
      "cell_type": "code",
      "source": [
        "import numpy as np\n",
        "import matplotlib.pyplot as plt\n",
        "from matplotlib.lines import Line2D"
      ],
      "metadata": {
        "id": "DRqrYTBguALh"
      },
      "execution_count": null,
      "outputs": []
    },
    {
      "cell_type": "code",
      "execution_count": null,
      "metadata": {
        "colab": {
          "base_uri": "https://localhost:8080/",
          "height": 269
        },
        "id": "15u1eaqrsQGP",
        "outputId": "9a65a4b0-6d9b-4930-d2c2-b2ddbd977f3e"
      },
      "outputs": [
        {
          "output_type": "display_data",
          "data": {
            "text/plain": [
              "<Figure size 432x288 with 1 Axes>"
            ],
            "image/png": "[encoded data removed]"
          },
          "metadata": {
            "needs_background": "light"
          }
        }
      ],
      "source": [
        "#James Artuso\n",
        "#HW 3\n",
        "#10/19/22\n",
        "\n",
        "worldCoord = np.array([[0, 1, 0, 1, 0, 1, 0, 1, 0.5, 0.5],\n",
        "                       [0, 0, 1, 1, 0, 0, 1, 1, 0.2, 0.8],\n",
        "                       [0, 0, 0, 0, 1, 1, 1, 1, 1.5, 1.5],\n",
        "                       [1, 1, 1, 1, 1, 1, 1, 1, 1  , 1]])\n",
        "\n",
        "lTw = np.array([[ 0.707, 0.707, 0, -3],\n",
        "                [-0.707, 0.707, 0, -0.5],\n",
        "                [ 0    ,0     , 1,  3]])\n",
        "\n",
        "K = np.array([[-100, 0  ,200],\n",
        "               [-0  ,-100,200],\n",
        "               [ 0  , 0  ,1]])\n",
        "\n",
        "camCoordl = np.matmul(lTw, worldCoord)\n",
        "\n",
        "pixelCoordl = np.matmul(K,camCoordl)\n",
        "\n",
        "\n",
        "for i in range(len(pixelCoordl[0])):\n",
        "  pixelCoordl[0,i] = pixelCoordl[0,i]/pixelCoordl[2,i]\n",
        "  pixelCoordl[1,i] = pixelCoordl[1,i]/pixelCoordl[2,i]\n",
        "  pixelCoordl[2,i] = pixelCoordl[2,i]/pixelCoordl[2,i]\n",
        "\n",
        "\n",
        "line1 = Line2D([pixelCoordl[0,0],pixelCoordl[0,1]],[pixelCoordl[1,0],pixelCoordl[1,1]])\n",
        "line2 = Line2D([pixelCoordl[0,0],pixelCoordl[0,2]],[pixelCoordl[1,0],pixelCoordl[1,2]])\n",
        "line3 = Line2D([pixelCoordl[0,0],pixelCoordl[0,4]],[pixelCoordl[1,0],pixelCoordl[1,4]])\n",
        "line4 = Line2D([pixelCoordl[0,3],pixelCoordl[0,1]],[pixelCoordl[1,3],pixelCoordl[1,1]])\n",
        "line5 = Line2D([pixelCoordl[0,3],pixelCoordl[0,2]],[pixelCoordl[1,3],pixelCoordl[1,2]])\n",
        "line6 = Line2D([pixelCoordl[0,3],pixelCoordl[0,7]],[pixelCoordl[1,3],pixelCoordl[1,7]])\n",
        "\n",
        "line7 = Line2D([pixelCoordl[0,5],pixelCoordl[0,7]],[pixelCoordl[1,5],pixelCoordl[1,7]])\n",
        "line8 = Line2D([pixelCoordl[0,5],pixelCoordl[0,4]],[pixelCoordl[1,5],pixelCoordl[1,4]])\n",
        "line9 = Line2D([pixelCoordl[0,5],pixelCoordl[0,1]],[pixelCoordl[1,5],pixelCoordl[1,1]])\n",
        "line10 = Line2D([pixelCoordl[0,6],pixelCoordl[0,7]],[pixelCoordl[1,6],pixelCoordl[1,7]])\n",
        "line11 = Line2D([pixelCoordl[0,6],pixelCoordl[0,4]],[pixelCoordl[1,6],pixelCoordl[1,4]])\n",
        "line12 = Line2D([pixelCoordl[0,6],pixelCoordl[0,2]],[pixelCoordl[1,6],pixelCoordl[1,2]])\n",
        "\n",
        "line13 = Line2D([pixelCoordl[0,8],pixelCoordl[0,4]],[pixelCoordl[1,8],pixelCoordl[1,4]])\n",
        "line14 = Line2D([pixelCoordl[0,8],pixelCoordl[0,5]],[pixelCoordl[1,8],pixelCoordl[1,5]])\n",
        "line15 = Line2D([pixelCoordl[0,8],pixelCoordl[0,9]],[pixelCoordl[1,8],pixelCoordl[1,9]])\n",
        "line16 = Line2D([pixelCoordl[0,9],pixelCoordl[0,7]],[pixelCoordl[1,9],pixelCoordl[1,7]])\n",
        "line17 = Line2D([pixelCoordl[0,9],pixelCoordl[0,6]],[pixelCoordl[1,9],pixelCoordl[1,6]])\n",
        "\n",
        "\n",
        "fig = plt.figure()\n",
        "ax = fig.add_subplot(111)\n",
        "ax.add_line(line1)\n",
        "ax.add_line(line2)\n",
        "ax.add_line(line3)\n",
        "ax.add_line(line4)\n",
        "ax.add_line(line5)\n",
        "ax.add_line(line6)\n",
        "ax.add_line(line7)\n",
        "ax.add_line(line8)\n",
        "ax.add_line(line9)\n",
        "ax.add_line(line10)\n",
        "ax.add_line(line11)\n",
        "ax.add_line(line12)\n",
        "ax.add_line(line13)\n",
        "ax.add_line(line14)\n",
        "ax.add_line(line15)\n",
        "ax.add_line(line16)\n",
        "ax.add_line(line17)\n",
        "ax.set_xlim(230, 300)\n",
        "ax.set_ylim(190, 250)\n",
        "plt.show()"
      ]
    },
    {
      "cell_type": "code",
      "source": [
        "#James Artuso\n",
        "#HW 3\n",
        "#10/19/22\n",
        "\n",
        "rTw = np.array([[ 0.866, -0.5 , 0, -3],\n",
        "                [ 0.5  , 0.866, 0, -0.5],\n",
        "                [ 0    , 0    , 1,  3]])\n",
        "\n",
        "Kr = np.array([[-100, 0  ,200],\n",
        "               [-0  ,-100,200],\n",
        "               [ 0  , 0  ,1]])\n",
        "\n",
        "camCoordr = np.matmul(rTw, worldCoord)\n",
        "\n",
        "pixelCoordr = np.matmul(Kr,camCoordr)\n",
        "\n",
        "\n",
        "for i in range(len(pixelCoordr[0])):\n",
        "  pixelCoordr[0,i] = pixelCoordr[0,i]/pixelCoordr[2,i]\n",
        "  pixelCoordr[1,i] = pixelCoordr[1,i]/pixelCoordr[2,i]\n",
        "  pixelCoordr[2,i] = pixelCoordr[2,i]/pixelCoordr[2,i]\n",
        "\n",
        "\n",
        "line1_2 = Line2D([pixelCoordr[0,0],pixelCoordr[0,1]],[pixelCoordr[1,0],pixelCoordr[1,1]])\n",
        "line2_2 = Line2D([pixelCoordr[0,0],pixelCoordr[0,2]],[pixelCoordr[1,0],pixelCoordr[1,2]])\n",
        "line3_2 = Line2D([pixelCoordr[0,0],pixelCoordr[0,4]],[pixelCoordr[1,0],pixelCoordr[1,4]])\n",
        "line4_2 = Line2D([pixelCoordr[0,3],pixelCoordr[0,1]],[pixelCoordr[1,3],pixelCoordr[1,1]])\n",
        "line5_2 = Line2D([pixelCoordr[0,3],pixelCoordr[0,2]],[pixelCoordr[1,3],pixelCoordr[1,2]])\n",
        "line6_2 = Line2D([pixelCoordr[0,3],pixelCoordr[0,7]],[pixelCoordr[1,3],pixelCoordr[1,7]])\n",
        "\n",
        "line7_2 = Line2D([pixelCoordr[0,5],pixelCoordr[0,7]],[pixelCoordr[1,5],pixelCoordr[1,7]])\n",
        "line8_2 = Line2D([pixelCoordr[0,5],pixelCoordr[0,4]],[pixelCoordr[1,5],pixelCoordr[1,4]])\n",
        "line9_2 = Line2D([pixelCoordr[0,5],pixelCoordr[0,1]],[pixelCoordr[1,5],pixelCoordr[1,1]])\n",
        "line10_2 = Line2D([pixelCoordr[0,6],pixelCoordr[0,7]],[pixelCoordr[1,6],pixelCoordr[1,7]])\n",
        "line11_2 = Line2D([pixelCoordr[0,6],pixelCoordr[0,4]],[pixelCoordr[1,6],pixelCoordr[1,4]])\n",
        "line12_2 = Line2D([pixelCoordr[0,6],pixelCoordr[0,2]],[pixelCoordr[1,6],pixelCoordr[1,2]])\n",
        "\n",
        "line13_2 = Line2D([pixelCoordr[0,8],pixelCoordr[0,4]],[pixelCoordr[1,8],pixelCoordr[1,4]])\n",
        "line14_2 = Line2D([pixelCoordr[0,8],pixelCoordr[0,5]],[pixelCoordr[1,8],pixelCoordr[1,5]])\n",
        "line15_2 = Line2D([pixelCoordr[0,8],pixelCoordr[0,9]],[pixelCoordr[1,8],pixelCoordr[1,9]])\n",
        "line16_2 = Line2D([pixelCoordr[0,9],pixelCoordr[0,7]],[pixelCoordr[1,9],pixelCoordr[1,7]])\n",
        "line17_2 = Line2D([pixelCoordr[0,9],pixelCoordr[0,6]],[pixelCoordr[1,9],pixelCoordr[1,6]])\n",
        "\n",
        "\n",
        "fig = plt.figure()\n",
        "ax = fig.add_subplot(111)\n",
        "ax.add_line(line1_2)\n",
        "ax.add_line(line2_2)\n",
        "ax.add_line(line3_2)\n",
        "ax.add_line(line4_2)\n",
        "ax.add_line(line5_2)\n",
        "ax.add_line(line6_2)\n",
        "ax.add_line(line7_2)\n",
        "ax.add_line(line8_2)\n",
        "ax.add_line(line9_2)\n",
        "ax.add_line(line10_2)\n",
        "ax.add_line(line11_2)\n",
        "ax.add_line(line12_2)\n",
        "ax.add_line(line13_2)\n",
        "ax.add_line(line14_2)\n",
        "ax.add_line(line15_2)\n",
        "ax.add_line(line16_2)\n",
        "ax.add_line(line17_2)\n",
        "ax.set_xlim(210, 260)\n",
        "ax.set_ylim(130, 190)\n",
        "plt.show()"
      ],
      "metadata": {
        "colab": {
          "base_uri": "https://localhost:8080/",
          "height": 269
        },
        "id": "5bo7vhq7v5CG",
        "outputId": "9c2e2c71-663a-4a7f-93c8-60e727355c0e"
      },
      "execution_count": null,
      "outputs": [
        {
          "output_type": "display_data",
          "data": {
            "text/plain": [
              "<Figure size 432x288 with 1 Axes>"
            ],
            "image/png": "[encoded data removed]"
          },
          "metadata": {
            "needs_background": "light"
          }
        }
      ]
    },
    {
      "cell_type": "code",
      "source": [
        "#Pixels to Rays\n",
        "rightray = np.matmul(np.linalg.inv(K),[pixelCoordr[0,:], pixelCoordr[1,:], pixelCoordr[2,:]])\n",
        "\n",
        "leftray = np.matmul(np.linalg.inv(K),[pixelCoordl[0,:], pixelCoordl[1,:], pixelCoordl[2,:]])\n",
        "\n",
        "#Stereo reconstruction with known camera matices\n",
        "\n",
        "wTl = np.linalg.inv(np.vstack([lTw, [0,0,0,1]]))\n",
        "wTr = np.linalg.inv(np.vstack([rTw, [0,0,0,1]]))\n",
        "\n",
        "lTr = np.matmul(lTw, wTr)\n",
        "\n"
      ],
      "metadata": {
        "id": "B_FfGV-sxIWG"
      },
      "execution_count": null,
      "outputs": []
    },
    {
      "cell_type": "code",
      "source": [
        "reconstructed = np.zeros(worldCoord.shape)\n",
        "lRr = lTr[0:3, 0:3]\n",
        "ltr = lTr[0:3, 3]\n",
        "\n",
        "NN = np.size(leftray[0])\n",
        "\n",
        "for i in range(NN):\n",
        "  plt = leftray[:,i]\n",
        "  prt = rightray[:,i]\n",
        "  \n",
        "  q = np.cross(plt, np.matmul(lRr, prt));\n",
        "  q = q/np.linalg.norm(q)\n",
        "  A = np.vstack([plt, -1*(np.matmul((lRr), prt)), q]).T\n",
        "\n",
        "\n",
        "  solveit = np.matmul(np.linalg.inv(A), ltr)\n",
        "  a = solveit[0]\n",
        "  b = solveit[1]\n",
        "  c = solveit[2]\n",
        "  reconstructed[:,i] = np.hstack([a*plt + c*q,1]).T\n",
        "reconstructed = np.matmul(wTl, reconstructed);\n",
        "print(reconstructed)"
      ],
      "metadata": {
        "colab": {
          "base_uri": "https://localhost:8080/"
        },
        "id": "yGYXo4x4qnTT",
        "outputId": "e803862c-2ba3-490f-ed50-4ef9880d85e3"
      },
      "execution_count": null,
      "outputs": [
        {
          "output_type": "stream",
          "name": "stdout",
          "text": [
            "[[-6.66133815e-16  1.00000000e+00  2.22044605e-16  1.00000000e+00\n",
            "  -6.66133815e-16  1.00000000e+00 -6.66133815e-16  1.00000000e+00\n",
            "   5.00000000e-01  5.00000000e-01]\n",
            " [-4.44089210e-16 -4.44089210e-16  1.00000000e+00  1.00000000e+00\n",
            "  -4.44089210e-16 -4.44089210e-16  1.00000000e+00  1.00000000e+00\n",
            "   2.00000000e-01  8.00000000e-01]\n",
            " [ 4.44089210e-16  0.00000000e+00 -8.88178420e-16  4.44089210e-16\n",
            "   1.00000000e+00  1.00000000e+00  1.00000000e+00  1.00000000e+00\n",
            "   1.50000000e+00  1.50000000e+00]\n",
            " [ 1.00000000e+00  1.00000000e+00  1.00000000e+00  1.00000000e+00\n",
            "   1.00000000e+00  1.00000000e+00  1.00000000e+00  1.00000000e+00\n",
            "   1.00000000e+00  1.00000000e+00]]\n"
          ]
        }
      ]
    }
  ]
}